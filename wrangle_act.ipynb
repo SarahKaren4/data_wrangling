{
 "cells": [
  {
   "cell_type": "markdown",
   "id": "d61c565c",
   "metadata": {},
   "source": [
    " # Gather"
   ]
  },
  {
   "cell_type": "code",
   "execution_count": 106,
   "id": "3985dd7d",
   "metadata": {},
   "outputs": [],
   "source": [
    "import pandas as pd\n",
    "import numpy as np\n",
    "import matplotlib.pyplot as plt\n",
    "import requests\n",
    "import json\n",
    "from IPython.display import Image\n",
    "WC2LMFZRW63NFMZXXEY3FYKZXI53PL5TGCY3UN5ZF65TFOJUWM2LFMTB"
   ]
  },
  {
   "cell_type": "markdown",
   "id": "71daf54c",
   "metadata": {},
   "source": [
    "#### The twitter_a dataframe"
   ]
  },
  {
   "cell_type": "code",
   "execution_count": 107,
   "id": "eaa8cd4e",
   "metadata": {},
   "outputs": [],
   "source": [
    "twitter_a=pd.read_csv('twitter-archive-enhanced.csv')"
   ]
  },
  {
   "cell_type": "markdown",
   "id": "3ff40572",
   "metadata": {},
   "source": [
    "##### The image_p dataframe)"
   ]
  },
  {
   "cell_type": "code",
   "execution_count": 108,
   "id": "86cfad52",
   "metadata": {},
   "outputs": [
    {
     "data": {
      "text/plain": [
       "\"url='https://d17h27t6h515a5.cloudfront.net/topher/2017/August/599fd2ad_image-predictions/image-predictions.tsv'\\nresponse=requests.get(url)\\nwith open ('image-prediction.tsv',mode='wb')as file:\\n    file.write(response.content)\\n    \""
      ]
     },
     "execution_count": 108,
     "metadata": {},
     "output_type": "execute_result"
    }
   ],
   "source": [
    "\"\"\"url='https://d17h27t6h515a5.cloudfront.net/topher/2017/August/599fd2ad_image-predictions/image-predictions.tsv'\n",
    "response=requests.get(url)\n",
    "with open ('image-prediction.tsv',mode='wb')as file:\n",
    "    file.write(response.content)\n",
    "    \"\"\""
   ]
  },
  {
   "cell_type": "code",
   "execution_count": 109,
   "id": "a2de62c9",
   "metadata": {},
   "outputs": [],
   "source": [
    "image_p=pd.read_csv('image-prediction.tsv',sep='\\t')"
   ]
  },
  {
   "cell_type": "markdown",
   "id": "1eec716c",
   "metadata": {},
   "source": [
    "#### The tweet_data dataframe"
   ]
  },
  {
   "cell_type": "code",
   "execution_count": 110,
   "id": "0b218344",
   "metadata": {},
   "outputs": [],
   "source": [
    "list_tweet=[]\n",
    "with open ('tweet-json.txt')as file:\n",
    "    for line in file:\n",
    "        list_tweet.append(json.loads(line))"
   ]
  },
  {
   "cell_type": "code",
   "execution_count": 111,
   "id": "87234543",
   "metadata": {},
   "outputs": [],
   "source": [
    "tweet_data=pd.DataFrame(list_tweet,columns=['id','retweet_count','favorite_count'])"
   ]
  },
  {
   "cell_type": "markdown",
   "id": "19f2a500",
   "metadata": {},
   "source": [
    "# Assess"
   ]
  },
  {
   "cell_type": "code",
   "execution_count": 112,
   "id": "90726e49",
   "metadata": {},
   "outputs": [
    {
     "data": {
      "text/html": [
       "<div>\n",
       "<style scoped>\n",
       "    .dataframe tbody tr th:only-of-type {\n",
       "        vertical-align: middle;\n",
       "    }\n",
       "\n",
       "    .dataframe tbody tr th {\n",
       "        vertical-align: top;\n",
       "    }\n",
       "\n",
       "    .dataframe thead th {\n",
       "        text-align: right;\n",
       "    }\n",
       "</style>\n",
       "<table border=\"1\" class=\"dataframe\">\n",
       "  <thead>\n",
       "    <tr style=\"text-align: right;\">\n",
       "      <th></th>\n",
       "      <th>tweet_id</th>\n",
       "      <th>in_reply_to_status_id</th>\n",
       "      <th>in_reply_to_user_id</th>\n",
       "      <th>timestamp</th>\n",
       "      <th>source</th>\n",
       "      <th>text</th>\n",
       "      <th>retweeted_status_id</th>\n",
       "      <th>retweeted_status_user_id</th>\n",
       "      <th>retweeted_status_timestamp</th>\n",
       "      <th>expanded_urls</th>\n",
       "      <th>rating_numerator</th>\n",
       "      <th>rating_denominator</th>\n",
       "      <th>name</th>\n",
       "      <th>doggo</th>\n",
       "      <th>floofer</th>\n",
       "      <th>pupper</th>\n",
       "      <th>puppo</th>\n",
       "    </tr>\n",
       "  </thead>\n",
       "  <tbody>\n",
       "    <tr>\n",
       "      <th>0</th>\n",
       "      <td>892420643555336193</td>\n",
       "      <td>NaN</td>\n",
       "      <td>NaN</td>\n",
       "      <td>2017-08-01 16:23:56 +0000</td>\n",
       "      <td>&lt;a href=\"http://twitter.com/download/iphone\" r...</td>\n",
       "      <td>This is Phineas. He's a mystical boy. Only eve...</td>\n",
       "      <td>NaN</td>\n",
       "      <td>NaN</td>\n",
       "      <td>NaN</td>\n",
       "      <td>https://twitter.com/dog_rates/status/892420643...</td>\n",
       "      <td>13</td>\n",
       "      <td>10</td>\n",
       "      <td>Phineas</td>\n",
       "      <td>None</td>\n",
       "      <td>None</td>\n",
       "      <td>None</td>\n",
       "      <td>None</td>\n",
       "    </tr>\n",
       "    <tr>\n",
       "      <th>1</th>\n",
       "      <td>892177421306343426</td>\n",
       "      <td>NaN</td>\n",
       "      <td>NaN</td>\n",
       "      <td>2017-08-01 00:17:27 +0000</td>\n",
       "      <td>&lt;a href=\"http://twitter.com/download/iphone\" r...</td>\n",
       "      <td>This is Tilly. She's just checking pup on you....</td>\n",
       "      <td>NaN</td>\n",
       "      <td>NaN</td>\n",
       "      <td>NaN</td>\n",
       "      <td>https://twitter.com/dog_rates/status/892177421...</td>\n",
       "      <td>13</td>\n",
       "      <td>10</td>\n",
       "      <td>Tilly</td>\n",
       "      <td>None</td>\n",
       "      <td>None</td>\n",
       "      <td>None</td>\n",
       "      <td>None</td>\n",
       "    </tr>\n",
       "    <tr>\n",
       "      <th>2</th>\n",
       "      <td>891815181378084864</td>\n",
       "      <td>NaN</td>\n",
       "      <td>NaN</td>\n",
       "      <td>2017-07-31 00:18:03 +0000</td>\n",
       "      <td>&lt;a href=\"http://twitter.com/download/iphone\" r...</td>\n",
       "      <td>This is Archie. He is a rare Norwegian Pouncin...</td>\n",
       "      <td>NaN</td>\n",
       "      <td>NaN</td>\n",
       "      <td>NaN</td>\n",
       "      <td>https://twitter.com/dog_rates/status/891815181...</td>\n",
       "      <td>12</td>\n",
       "      <td>10</td>\n",
       "      <td>Archie</td>\n",
       "      <td>None</td>\n",
       "      <td>None</td>\n",
       "      <td>None</td>\n",
       "      <td>None</td>\n",
       "    </tr>\n",
       "    <tr>\n",
       "      <th>3</th>\n",
       "      <td>891689557279858688</td>\n",
       "      <td>NaN</td>\n",
       "      <td>NaN</td>\n",
       "      <td>2017-07-30 15:58:51 +0000</td>\n",
       "      <td>&lt;a href=\"http://twitter.com/download/iphone\" r...</td>\n",
       "      <td>This is Darla. She commenced a snooze mid meal...</td>\n",
       "      <td>NaN</td>\n",
       "      <td>NaN</td>\n",
       "      <td>NaN</td>\n",
       "      <td>https://twitter.com/dog_rates/status/891689557...</td>\n",
       "      <td>13</td>\n",
       "      <td>10</td>\n",
       "      <td>Darla</td>\n",
       "      <td>None</td>\n",
       "      <td>None</td>\n",
       "      <td>None</td>\n",
       "      <td>None</td>\n",
       "    </tr>\n",
       "    <tr>\n",
       "      <th>4</th>\n",
       "      <td>891327558926688256</td>\n",
       "      <td>NaN</td>\n",
       "      <td>NaN</td>\n",
       "      <td>2017-07-29 16:00:24 +0000</td>\n",
       "      <td>&lt;a href=\"http://twitter.com/download/iphone\" r...</td>\n",
       "      <td>This is Franklin. He would like you to stop ca...</td>\n",
       "      <td>NaN</td>\n",
       "      <td>NaN</td>\n",
       "      <td>NaN</td>\n",
       "      <td>https://twitter.com/dog_rates/status/891327558...</td>\n",
       "      <td>12</td>\n",
       "      <td>10</td>\n",
       "      <td>Franklin</td>\n",
       "      <td>None</td>\n",
       "      <td>None</td>\n",
       "      <td>None</td>\n",
       "      <td>None</td>\n",
       "    </tr>\n",
       "    <tr>\n",
       "      <th>...</th>\n",
       "      <td>...</td>\n",
       "      <td>...</td>\n",
       "      <td>...</td>\n",
       "      <td>...</td>\n",
       "      <td>...</td>\n",
       "      <td>...</td>\n",
       "      <td>...</td>\n",
       "      <td>...</td>\n",
       "      <td>...</td>\n",
       "      <td>...</td>\n",
       "      <td>...</td>\n",
       "      <td>...</td>\n",
       "      <td>...</td>\n",
       "      <td>...</td>\n",
       "      <td>...</td>\n",
       "      <td>...</td>\n",
       "      <td>...</td>\n",
       "    </tr>\n",
       "    <tr>\n",
       "      <th>2351</th>\n",
       "      <td>666049248165822465</td>\n",
       "      <td>NaN</td>\n",
       "      <td>NaN</td>\n",
       "      <td>2015-11-16 00:24:50 +0000</td>\n",
       "      <td>&lt;a href=\"http://twitter.com/download/iphone\" r...</td>\n",
       "      <td>Here we have a 1949 1st generation vulpix. Enj...</td>\n",
       "      <td>NaN</td>\n",
       "      <td>NaN</td>\n",
       "      <td>NaN</td>\n",
       "      <td>https://twitter.com/dog_rates/status/666049248...</td>\n",
       "      <td>5</td>\n",
       "      <td>10</td>\n",
       "      <td>None</td>\n",
       "      <td>None</td>\n",
       "      <td>None</td>\n",
       "      <td>None</td>\n",
       "      <td>None</td>\n",
       "    </tr>\n",
       "    <tr>\n",
       "      <th>2352</th>\n",
       "      <td>666044226329800704</td>\n",
       "      <td>NaN</td>\n",
       "      <td>NaN</td>\n",
       "      <td>2015-11-16 00:04:52 +0000</td>\n",
       "      <td>&lt;a href=\"http://twitter.com/download/iphone\" r...</td>\n",
       "      <td>This is a purebred Piers Morgan. Loves to Netf...</td>\n",
       "      <td>NaN</td>\n",
       "      <td>NaN</td>\n",
       "      <td>NaN</td>\n",
       "      <td>https://twitter.com/dog_rates/status/666044226...</td>\n",
       "      <td>6</td>\n",
       "      <td>10</td>\n",
       "      <td>a</td>\n",
       "      <td>None</td>\n",
       "      <td>None</td>\n",
       "      <td>None</td>\n",
       "      <td>None</td>\n",
       "    </tr>\n",
       "    <tr>\n",
       "      <th>2353</th>\n",
       "      <td>666033412701032449</td>\n",
       "      <td>NaN</td>\n",
       "      <td>NaN</td>\n",
       "      <td>2015-11-15 23:21:54 +0000</td>\n",
       "      <td>&lt;a href=\"http://twitter.com/download/iphone\" r...</td>\n",
       "      <td>Here is a very happy pup. Big fan of well-main...</td>\n",
       "      <td>NaN</td>\n",
       "      <td>NaN</td>\n",
       "      <td>NaN</td>\n",
       "      <td>https://twitter.com/dog_rates/status/666033412...</td>\n",
       "      <td>9</td>\n",
       "      <td>10</td>\n",
       "      <td>a</td>\n",
       "      <td>None</td>\n",
       "      <td>None</td>\n",
       "      <td>None</td>\n",
       "      <td>None</td>\n",
       "    </tr>\n",
       "    <tr>\n",
       "      <th>2354</th>\n",
       "      <td>666029285002620928</td>\n",
       "      <td>NaN</td>\n",
       "      <td>NaN</td>\n",
       "      <td>2015-11-15 23:05:30 +0000</td>\n",
       "      <td>&lt;a href=\"http://twitter.com/download/iphone\" r...</td>\n",
       "      <td>This is a western brown Mitsubishi terrier. Up...</td>\n",
       "      <td>NaN</td>\n",
       "      <td>NaN</td>\n",
       "      <td>NaN</td>\n",
       "      <td>https://twitter.com/dog_rates/status/666029285...</td>\n",
       "      <td>7</td>\n",
       "      <td>10</td>\n",
       "      <td>a</td>\n",
       "      <td>None</td>\n",
       "      <td>None</td>\n",
       "      <td>None</td>\n",
       "      <td>None</td>\n",
       "    </tr>\n",
       "    <tr>\n",
       "      <th>2355</th>\n",
       "      <td>666020888022790149</td>\n",
       "      <td>NaN</td>\n",
       "      <td>NaN</td>\n",
       "      <td>2015-11-15 22:32:08 +0000</td>\n",
       "      <td>&lt;a href=\"http://twitter.com/download/iphone\" r...</td>\n",
       "      <td>Here we have a Japanese Irish Setter. Lost eye...</td>\n",
       "      <td>NaN</td>\n",
       "      <td>NaN</td>\n",
       "      <td>NaN</td>\n",
       "      <td>https://twitter.com/dog_rates/status/666020888...</td>\n",
       "      <td>8</td>\n",
       "      <td>10</td>\n",
       "      <td>None</td>\n",
       "      <td>None</td>\n",
       "      <td>None</td>\n",
       "      <td>None</td>\n",
       "      <td>None</td>\n",
       "    </tr>\n",
       "  </tbody>\n",
       "</table>\n",
       "<p>2356 rows × 17 columns</p>\n",
       "</div>"
      ],
      "text/plain": [
       "                tweet_id  in_reply_to_status_id  in_reply_to_user_id  \\\n",
       "0     892420643555336193                    NaN                  NaN   \n",
       "1     892177421306343426                    NaN                  NaN   \n",
       "2     891815181378084864                    NaN                  NaN   \n",
       "3     891689557279858688                    NaN                  NaN   \n",
       "4     891327558926688256                    NaN                  NaN   \n",
       "...                  ...                    ...                  ...   \n",
       "2351  666049248165822465                    NaN                  NaN   \n",
       "2352  666044226329800704                    NaN                  NaN   \n",
       "2353  666033412701032449                    NaN                  NaN   \n",
       "2354  666029285002620928                    NaN                  NaN   \n",
       "2355  666020888022790149                    NaN                  NaN   \n",
       "\n",
       "                      timestamp  \\\n",
       "0     2017-08-01 16:23:56 +0000   \n",
       "1     2017-08-01 00:17:27 +0000   \n",
       "2     2017-07-31 00:18:03 +0000   \n",
       "3     2017-07-30 15:58:51 +0000   \n",
       "4     2017-07-29 16:00:24 +0000   \n",
       "...                         ...   \n",
       "2351  2015-11-16 00:24:50 +0000   \n",
       "2352  2015-11-16 00:04:52 +0000   \n",
       "2353  2015-11-15 23:21:54 +0000   \n",
       "2354  2015-11-15 23:05:30 +0000   \n",
       "2355  2015-11-15 22:32:08 +0000   \n",
       "\n",
       "                                                 source  \\\n",
       "0     <a href=\"http://twitter.com/download/iphone\" r...   \n",
       "1     <a href=\"http://twitter.com/download/iphone\" r...   \n",
       "2     <a href=\"http://twitter.com/download/iphone\" r...   \n",
       "3     <a href=\"http://twitter.com/download/iphone\" r...   \n",
       "4     <a href=\"http://twitter.com/download/iphone\" r...   \n",
       "...                                                 ...   \n",
       "2351  <a href=\"http://twitter.com/download/iphone\" r...   \n",
       "2352  <a href=\"http://twitter.com/download/iphone\" r...   \n",
       "2353  <a href=\"http://twitter.com/download/iphone\" r...   \n",
       "2354  <a href=\"http://twitter.com/download/iphone\" r...   \n",
       "2355  <a href=\"http://twitter.com/download/iphone\" r...   \n",
       "\n",
       "                                                   text  retweeted_status_id  \\\n",
       "0     This is Phineas. He's a mystical boy. Only eve...                  NaN   \n",
       "1     This is Tilly. She's just checking pup on you....                  NaN   \n",
       "2     This is Archie. He is a rare Norwegian Pouncin...                  NaN   \n",
       "3     This is Darla. She commenced a snooze mid meal...                  NaN   \n",
       "4     This is Franklin. He would like you to stop ca...                  NaN   \n",
       "...                                                 ...                  ...   \n",
       "2351  Here we have a 1949 1st generation vulpix. Enj...                  NaN   \n",
       "2352  This is a purebred Piers Morgan. Loves to Netf...                  NaN   \n",
       "2353  Here is a very happy pup. Big fan of well-main...                  NaN   \n",
       "2354  This is a western brown Mitsubishi terrier. Up...                  NaN   \n",
       "2355  Here we have a Japanese Irish Setter. Lost eye...                  NaN   \n",
       "\n",
       "      retweeted_status_user_id retweeted_status_timestamp  \\\n",
       "0                          NaN                        NaN   \n",
       "1                          NaN                        NaN   \n",
       "2                          NaN                        NaN   \n",
       "3                          NaN                        NaN   \n",
       "4                          NaN                        NaN   \n",
       "...                        ...                        ...   \n",
       "2351                       NaN                        NaN   \n",
       "2352                       NaN                        NaN   \n",
       "2353                       NaN                        NaN   \n",
       "2354                       NaN                        NaN   \n",
       "2355                       NaN                        NaN   \n",
       "\n",
       "                                          expanded_urls  rating_numerator  \\\n",
       "0     https://twitter.com/dog_rates/status/892420643...                13   \n",
       "1     https://twitter.com/dog_rates/status/892177421...                13   \n",
       "2     https://twitter.com/dog_rates/status/891815181...                12   \n",
       "3     https://twitter.com/dog_rates/status/891689557...                13   \n",
       "4     https://twitter.com/dog_rates/status/891327558...                12   \n",
       "...                                                 ...               ...   \n",
       "2351  https://twitter.com/dog_rates/status/666049248...                 5   \n",
       "2352  https://twitter.com/dog_rates/status/666044226...                 6   \n",
       "2353  https://twitter.com/dog_rates/status/666033412...                 9   \n",
       "2354  https://twitter.com/dog_rates/status/666029285...                 7   \n",
       "2355  https://twitter.com/dog_rates/status/666020888...                 8   \n",
       "\n",
       "      rating_denominator      name doggo floofer pupper puppo  \n",
       "0                     10   Phineas  None    None   None  None  \n",
       "1                     10     Tilly  None    None   None  None  \n",
       "2                     10    Archie  None    None   None  None  \n",
       "3                     10     Darla  None    None   None  None  \n",
       "4                     10  Franklin  None    None   None  None  \n",
       "...                  ...       ...   ...     ...    ...   ...  \n",
       "2351                  10      None  None    None   None  None  \n",
       "2352                  10         a  None    None   None  None  \n",
       "2353                  10         a  None    None   None  None  \n",
       "2354                  10         a  None    None   None  None  \n",
       "2355                  10      None  None    None   None  None  \n",
       "\n",
       "[2356 rows x 17 columns]"
      ]
     },
     "execution_count": 112,
     "metadata": {},
     "output_type": "execute_result"
    }
   ],
   "source": [
    "twitter_a"
   ]
  },
  {
   "cell_type": "code",
   "execution_count": 113,
   "id": "e9fa99f2",
   "metadata": {},
   "outputs": [
    {
     "data": {
      "text/html": [
       "<div>\n",
       "<style scoped>\n",
       "    .dataframe tbody tr th:only-of-type {\n",
       "        vertical-align: middle;\n",
       "    }\n",
       "\n",
       "    .dataframe tbody tr th {\n",
       "        vertical-align: top;\n",
       "    }\n",
       "\n",
       "    .dataframe thead th {\n",
       "        text-align: right;\n",
       "    }\n",
       "</style>\n",
       "<table border=\"1\" class=\"dataframe\">\n",
       "  <thead>\n",
       "    <tr style=\"text-align: right;\">\n",
       "      <th></th>\n",
       "      <th>tweet_id</th>\n",
       "      <th>jpg_url</th>\n",
       "      <th>img_num</th>\n",
       "      <th>p1</th>\n",
       "      <th>p1_conf</th>\n",
       "      <th>p1_dog</th>\n",
       "      <th>p2</th>\n",
       "      <th>p2_conf</th>\n",
       "      <th>p2_dog</th>\n",
       "      <th>p3</th>\n",
       "      <th>p3_conf</th>\n",
       "      <th>p3_dog</th>\n",
       "    </tr>\n",
       "  </thead>\n",
       "  <tbody>\n",
       "    <tr>\n",
       "      <th>0</th>\n",
       "      <td>666020888022790149</td>\n",
       "      <td>https://pbs.twimg.com/media/CT4udn0WwAA0aMy.jpg</td>\n",
       "      <td>1</td>\n",
       "      <td>Welsh_springer_spaniel</td>\n",
       "      <td>0.465074</td>\n",
       "      <td>True</td>\n",
       "      <td>collie</td>\n",
       "      <td>0.156665</td>\n",
       "      <td>True</td>\n",
       "      <td>Shetland_sheepdog</td>\n",
       "      <td>0.061428</td>\n",
       "      <td>True</td>\n",
       "    </tr>\n",
       "    <tr>\n",
       "      <th>1</th>\n",
       "      <td>666029285002620928</td>\n",
       "      <td>https://pbs.twimg.com/media/CT42GRgUYAA5iDo.jpg</td>\n",
       "      <td>1</td>\n",
       "      <td>redbone</td>\n",
       "      <td>0.506826</td>\n",
       "      <td>True</td>\n",
       "      <td>miniature_pinscher</td>\n",
       "      <td>0.074192</td>\n",
       "      <td>True</td>\n",
       "      <td>Rhodesian_ridgeback</td>\n",
       "      <td>0.072010</td>\n",
       "      <td>True</td>\n",
       "    </tr>\n",
       "    <tr>\n",
       "      <th>2</th>\n",
       "      <td>666033412701032449</td>\n",
       "      <td>https://pbs.twimg.com/media/CT4521TWwAEvMyu.jpg</td>\n",
       "      <td>1</td>\n",
       "      <td>German_shepherd</td>\n",
       "      <td>0.596461</td>\n",
       "      <td>True</td>\n",
       "      <td>malinois</td>\n",
       "      <td>0.138584</td>\n",
       "      <td>True</td>\n",
       "      <td>bloodhound</td>\n",
       "      <td>0.116197</td>\n",
       "      <td>True</td>\n",
       "    </tr>\n",
       "    <tr>\n",
       "      <th>3</th>\n",
       "      <td>666044226329800704</td>\n",
       "      <td>https://pbs.twimg.com/media/CT5Dr8HUEAA-lEu.jpg</td>\n",
       "      <td>1</td>\n",
       "      <td>Rhodesian_ridgeback</td>\n",
       "      <td>0.408143</td>\n",
       "      <td>True</td>\n",
       "      <td>redbone</td>\n",
       "      <td>0.360687</td>\n",
       "      <td>True</td>\n",
       "      <td>miniature_pinscher</td>\n",
       "      <td>0.222752</td>\n",
       "      <td>True</td>\n",
       "    </tr>\n",
       "    <tr>\n",
       "      <th>4</th>\n",
       "      <td>666049248165822465</td>\n",
       "      <td>https://pbs.twimg.com/media/CT5IQmsXIAAKY4A.jpg</td>\n",
       "      <td>1</td>\n",
       "      <td>miniature_pinscher</td>\n",
       "      <td>0.560311</td>\n",
       "      <td>True</td>\n",
       "      <td>Rottweiler</td>\n",
       "      <td>0.243682</td>\n",
       "      <td>True</td>\n",
       "      <td>Doberman</td>\n",
       "      <td>0.154629</td>\n",
       "      <td>True</td>\n",
       "    </tr>\n",
       "    <tr>\n",
       "      <th>...</th>\n",
       "      <td>...</td>\n",
       "      <td>...</td>\n",
       "      <td>...</td>\n",
       "      <td>...</td>\n",
       "      <td>...</td>\n",
       "      <td>...</td>\n",
       "      <td>...</td>\n",
       "      <td>...</td>\n",
       "      <td>...</td>\n",
       "      <td>...</td>\n",
       "      <td>...</td>\n",
       "      <td>...</td>\n",
       "    </tr>\n",
       "    <tr>\n",
       "      <th>2070</th>\n",
       "      <td>891327558926688256</td>\n",
       "      <td>https://pbs.twimg.com/media/DF6hr6BUMAAzZgT.jpg</td>\n",
       "      <td>2</td>\n",
       "      <td>basset</td>\n",
       "      <td>0.555712</td>\n",
       "      <td>True</td>\n",
       "      <td>English_springer</td>\n",
       "      <td>0.225770</td>\n",
       "      <td>True</td>\n",
       "      <td>German_short-haired_pointer</td>\n",
       "      <td>0.175219</td>\n",
       "      <td>True</td>\n",
       "    </tr>\n",
       "    <tr>\n",
       "      <th>2071</th>\n",
       "      <td>891689557279858688</td>\n",
       "      <td>https://pbs.twimg.com/media/DF_q7IAWsAEuuN8.jpg</td>\n",
       "      <td>1</td>\n",
       "      <td>paper_towel</td>\n",
       "      <td>0.170278</td>\n",
       "      <td>False</td>\n",
       "      <td>Labrador_retriever</td>\n",
       "      <td>0.168086</td>\n",
       "      <td>True</td>\n",
       "      <td>spatula</td>\n",
       "      <td>0.040836</td>\n",
       "      <td>False</td>\n",
       "    </tr>\n",
       "    <tr>\n",
       "      <th>2072</th>\n",
       "      <td>891815181378084864</td>\n",
       "      <td>https://pbs.twimg.com/media/DGBdLU1WsAANxJ9.jpg</td>\n",
       "      <td>1</td>\n",
       "      <td>Chihuahua</td>\n",
       "      <td>0.716012</td>\n",
       "      <td>True</td>\n",
       "      <td>malamute</td>\n",
       "      <td>0.078253</td>\n",
       "      <td>True</td>\n",
       "      <td>kelpie</td>\n",
       "      <td>0.031379</td>\n",
       "      <td>True</td>\n",
       "    </tr>\n",
       "    <tr>\n",
       "      <th>2073</th>\n",
       "      <td>892177421306343426</td>\n",
       "      <td>https://pbs.twimg.com/media/DGGmoV4XsAAUL6n.jpg</td>\n",
       "      <td>1</td>\n",
       "      <td>Chihuahua</td>\n",
       "      <td>0.323581</td>\n",
       "      <td>True</td>\n",
       "      <td>Pekinese</td>\n",
       "      <td>0.090647</td>\n",
       "      <td>True</td>\n",
       "      <td>papillon</td>\n",
       "      <td>0.068957</td>\n",
       "      <td>True</td>\n",
       "    </tr>\n",
       "    <tr>\n",
       "      <th>2074</th>\n",
       "      <td>892420643555336193</td>\n",
       "      <td>https://pbs.twimg.com/media/DGKD1-bXoAAIAUK.jpg</td>\n",
       "      <td>1</td>\n",
       "      <td>orange</td>\n",
       "      <td>0.097049</td>\n",
       "      <td>False</td>\n",
       "      <td>bagel</td>\n",
       "      <td>0.085851</td>\n",
       "      <td>False</td>\n",
       "      <td>banana</td>\n",
       "      <td>0.076110</td>\n",
       "      <td>False</td>\n",
       "    </tr>\n",
       "  </tbody>\n",
       "</table>\n",
       "<p>2075 rows × 12 columns</p>\n",
       "</div>"
      ],
      "text/plain": [
       "                tweet_id                                          jpg_url  \\\n",
       "0     666020888022790149  https://pbs.twimg.com/media/CT4udn0WwAA0aMy.jpg   \n",
       "1     666029285002620928  https://pbs.twimg.com/media/CT42GRgUYAA5iDo.jpg   \n",
       "2     666033412701032449  https://pbs.twimg.com/media/CT4521TWwAEvMyu.jpg   \n",
       "3     666044226329800704  https://pbs.twimg.com/media/CT5Dr8HUEAA-lEu.jpg   \n",
       "4     666049248165822465  https://pbs.twimg.com/media/CT5IQmsXIAAKY4A.jpg   \n",
       "...                  ...                                              ...   \n",
       "2070  891327558926688256  https://pbs.twimg.com/media/DF6hr6BUMAAzZgT.jpg   \n",
       "2071  891689557279858688  https://pbs.twimg.com/media/DF_q7IAWsAEuuN8.jpg   \n",
       "2072  891815181378084864  https://pbs.twimg.com/media/DGBdLU1WsAANxJ9.jpg   \n",
       "2073  892177421306343426  https://pbs.twimg.com/media/DGGmoV4XsAAUL6n.jpg   \n",
       "2074  892420643555336193  https://pbs.twimg.com/media/DGKD1-bXoAAIAUK.jpg   \n",
       "\n",
       "      img_num                      p1   p1_conf  p1_dog                  p2  \\\n",
       "0           1  Welsh_springer_spaniel  0.465074    True              collie   \n",
       "1           1                 redbone  0.506826    True  miniature_pinscher   \n",
       "2           1         German_shepherd  0.596461    True            malinois   \n",
       "3           1     Rhodesian_ridgeback  0.408143    True             redbone   \n",
       "4           1      miniature_pinscher  0.560311    True          Rottweiler   \n",
       "...       ...                     ...       ...     ...                 ...   \n",
       "2070        2                  basset  0.555712    True    English_springer   \n",
       "2071        1             paper_towel  0.170278   False  Labrador_retriever   \n",
       "2072        1               Chihuahua  0.716012    True            malamute   \n",
       "2073        1               Chihuahua  0.323581    True            Pekinese   \n",
       "2074        1                  orange  0.097049   False               bagel   \n",
       "\n",
       "       p2_conf  p2_dog                           p3   p3_conf  p3_dog  \n",
       "0     0.156665    True            Shetland_sheepdog  0.061428    True  \n",
       "1     0.074192    True          Rhodesian_ridgeback  0.072010    True  \n",
       "2     0.138584    True                   bloodhound  0.116197    True  \n",
       "3     0.360687    True           miniature_pinscher  0.222752    True  \n",
       "4     0.243682    True                     Doberman  0.154629    True  \n",
       "...        ...     ...                          ...       ...     ...  \n",
       "2070  0.225770    True  German_short-haired_pointer  0.175219    True  \n",
       "2071  0.168086    True                      spatula  0.040836   False  \n",
       "2072  0.078253    True                       kelpie  0.031379    True  \n",
       "2073  0.090647    True                     papillon  0.068957    True  \n",
       "2074  0.085851   False                       banana  0.076110   False  \n",
       "\n",
       "[2075 rows x 12 columns]"
      ]
     },
     "execution_count": 113,
     "metadata": {},
     "output_type": "execute_result"
    }
   ],
   "source": [
    "image_p"
   ]
  },
  {
   "cell_type": "code",
   "execution_count": 114,
   "id": "5cc3bf24",
   "metadata": {},
   "outputs": [
    {
     "data": {
      "text/html": [
       "<div>\n",
       "<style scoped>\n",
       "    .dataframe tbody tr th:only-of-type {\n",
       "        vertical-align: middle;\n",
       "    }\n",
       "\n",
       "    .dataframe tbody tr th {\n",
       "        vertical-align: top;\n",
       "    }\n",
       "\n",
       "    .dataframe thead th {\n",
       "        text-align: right;\n",
       "    }\n",
       "</style>\n",
       "<table border=\"1\" class=\"dataframe\">\n",
       "  <thead>\n",
       "    <tr style=\"text-align: right;\">\n",
       "      <th></th>\n",
       "      <th>id</th>\n",
       "      <th>retweet_count</th>\n",
       "      <th>favorite_count</th>\n",
       "    </tr>\n",
       "  </thead>\n",
       "  <tbody>\n",
       "    <tr>\n",
       "      <th>0</th>\n",
       "      <td>892420643555336193</td>\n",
       "      <td>8853</td>\n",
       "      <td>39467</td>\n",
       "    </tr>\n",
       "    <tr>\n",
       "      <th>1</th>\n",
       "      <td>892177421306343426</td>\n",
       "      <td>6514</td>\n",
       "      <td>33819</td>\n",
       "    </tr>\n",
       "    <tr>\n",
       "      <th>2</th>\n",
       "      <td>891815181378084864</td>\n",
       "      <td>4328</td>\n",
       "      <td>25461</td>\n",
       "    </tr>\n",
       "    <tr>\n",
       "      <th>3</th>\n",
       "      <td>891689557279858688</td>\n",
       "      <td>8964</td>\n",
       "      <td>42908</td>\n",
       "    </tr>\n",
       "    <tr>\n",
       "      <th>4</th>\n",
       "      <td>891327558926688256</td>\n",
       "      <td>9774</td>\n",
       "      <td>41048</td>\n",
       "    </tr>\n",
       "    <tr>\n",
       "      <th>...</th>\n",
       "      <td>...</td>\n",
       "      <td>...</td>\n",
       "      <td>...</td>\n",
       "    </tr>\n",
       "    <tr>\n",
       "      <th>2349</th>\n",
       "      <td>666049248165822465</td>\n",
       "      <td>41</td>\n",
       "      <td>111</td>\n",
       "    </tr>\n",
       "    <tr>\n",
       "      <th>2350</th>\n",
       "      <td>666044226329800704</td>\n",
       "      <td>147</td>\n",
       "      <td>311</td>\n",
       "    </tr>\n",
       "    <tr>\n",
       "      <th>2351</th>\n",
       "      <td>666033412701032449</td>\n",
       "      <td>47</td>\n",
       "      <td>128</td>\n",
       "    </tr>\n",
       "    <tr>\n",
       "      <th>2352</th>\n",
       "      <td>666029285002620928</td>\n",
       "      <td>48</td>\n",
       "      <td>132</td>\n",
       "    </tr>\n",
       "    <tr>\n",
       "      <th>2353</th>\n",
       "      <td>666020888022790149</td>\n",
       "      <td>532</td>\n",
       "      <td>2535</td>\n",
       "    </tr>\n",
       "  </tbody>\n",
       "</table>\n",
       "<p>2354 rows × 3 columns</p>\n",
       "</div>"
      ],
      "text/plain": [
       "                      id  retweet_count  favorite_count\n",
       "0     892420643555336193           8853           39467\n",
       "1     892177421306343426           6514           33819\n",
       "2     891815181378084864           4328           25461\n",
       "3     891689557279858688           8964           42908\n",
       "4     891327558926688256           9774           41048\n",
       "...                  ...            ...             ...\n",
       "2349  666049248165822465             41             111\n",
       "2350  666044226329800704            147             311\n",
       "2351  666033412701032449             47             128\n",
       "2352  666029285002620928             48             132\n",
       "2353  666020888022790149            532            2535\n",
       "\n",
       "[2354 rows x 3 columns]"
      ]
     },
     "execution_count": 114,
     "metadata": {},
     "output_type": "execute_result"
    }
   ],
   "source": [
    "tweet_data"
   ]
  },
  {
   "cell_type": "markdown",
   "id": "49a2ed13",
   "metadata": {},
   "source": [
    "### Assessing twitter_a"
   ]
  },
  {
   "cell_type": "code",
   "execution_count": 115,
   "id": "957ca2f2",
   "metadata": {},
   "outputs": [
    {
     "name": "stdout",
     "output_type": "stream",
     "text": [
      "<class 'pandas.core.frame.DataFrame'>\n",
      "RangeIndex: 2356 entries, 0 to 2355\n",
      "Data columns (total 17 columns):\n",
      " #   Column                      Non-Null Count  Dtype  \n",
      "---  ------                      --------------  -----  \n",
      " 0   tweet_id                    2356 non-null   int64  \n",
      " 1   in_reply_to_status_id       78 non-null     float64\n",
      " 2   in_reply_to_user_id         78 non-null     float64\n",
      " 3   timestamp                   2356 non-null   object \n",
      " 4   source                      2356 non-null   object \n",
      " 5   text                        2356 non-null   object \n",
      " 6   retweeted_status_id         181 non-null    float64\n",
      " 7   retweeted_status_user_id    181 non-null    float64\n",
      " 8   retweeted_status_timestamp  181 non-null    object \n",
      " 9   expanded_urls               2297 non-null   object \n",
      " 10  rating_numerator            2356 non-null   int64  \n",
      " 11  rating_denominator          2356 non-null   int64  \n",
      " 12  name                        2356 non-null   object \n",
      " 13  doggo                       2356 non-null   object \n",
      " 14  floofer                     2356 non-null   object \n",
      " 15  pupper                      2356 non-null   object \n",
      " 16  puppo                       2356 non-null   object \n",
      "dtypes: float64(4), int64(3), object(10)\n",
      "memory usage: 313.0+ KB\n"
     ]
    }
   ],
   "source": [
    "twitter_a.info()"
   ]
  },
  {
   "cell_type": "code",
   "execution_count": 116,
   "id": "a7644752",
   "metadata": {},
   "outputs": [
    {
     "data": {
      "text/html": [
       "<div>\n",
       "<style scoped>\n",
       "    .dataframe tbody tr th:only-of-type {\n",
       "        vertical-align: middle;\n",
       "    }\n",
       "\n",
       "    .dataframe tbody tr th {\n",
       "        vertical-align: top;\n",
       "    }\n",
       "\n",
       "    .dataframe thead th {\n",
       "        text-align: right;\n",
       "    }\n",
       "</style>\n",
       "<table border=\"1\" class=\"dataframe\">\n",
       "  <thead>\n",
       "    <tr style=\"text-align: right;\">\n",
       "      <th></th>\n",
       "      <th>tweet_id</th>\n",
       "      <th>in_reply_to_status_id</th>\n",
       "      <th>in_reply_to_user_id</th>\n",
       "      <th>retweeted_status_id</th>\n",
       "      <th>retweeted_status_user_id</th>\n",
       "      <th>rating_numerator</th>\n",
       "      <th>rating_denominator</th>\n",
       "    </tr>\n",
       "  </thead>\n",
       "  <tbody>\n",
       "    <tr>\n",
       "      <th>count</th>\n",
       "      <td>2.356000e+03</td>\n",
       "      <td>7.800000e+01</td>\n",
       "      <td>7.800000e+01</td>\n",
       "      <td>1.810000e+02</td>\n",
       "      <td>1.810000e+02</td>\n",
       "      <td>2356.000000</td>\n",
       "      <td>2356.000000</td>\n",
       "    </tr>\n",
       "    <tr>\n",
       "      <th>mean</th>\n",
       "      <td>7.427716e+17</td>\n",
       "      <td>7.455079e+17</td>\n",
       "      <td>2.014171e+16</td>\n",
       "      <td>7.720400e+17</td>\n",
       "      <td>1.241698e+16</td>\n",
       "      <td>13.126486</td>\n",
       "      <td>10.455433</td>\n",
       "    </tr>\n",
       "    <tr>\n",
       "      <th>std</th>\n",
       "      <td>6.856705e+16</td>\n",
       "      <td>7.582492e+16</td>\n",
       "      <td>1.252797e+17</td>\n",
       "      <td>6.236928e+16</td>\n",
       "      <td>9.599254e+16</td>\n",
       "      <td>45.876648</td>\n",
       "      <td>6.745237</td>\n",
       "    </tr>\n",
       "    <tr>\n",
       "      <th>min</th>\n",
       "      <td>6.660209e+17</td>\n",
       "      <td>6.658147e+17</td>\n",
       "      <td>1.185634e+07</td>\n",
       "      <td>6.661041e+17</td>\n",
       "      <td>7.832140e+05</td>\n",
       "      <td>0.000000</td>\n",
       "      <td>0.000000</td>\n",
       "    </tr>\n",
       "    <tr>\n",
       "      <th>25%</th>\n",
       "      <td>6.783989e+17</td>\n",
       "      <td>6.757419e+17</td>\n",
       "      <td>3.086374e+08</td>\n",
       "      <td>7.186315e+17</td>\n",
       "      <td>4.196984e+09</td>\n",
       "      <td>10.000000</td>\n",
       "      <td>10.000000</td>\n",
       "    </tr>\n",
       "    <tr>\n",
       "      <th>50%</th>\n",
       "      <td>7.196279e+17</td>\n",
       "      <td>7.038708e+17</td>\n",
       "      <td>4.196984e+09</td>\n",
       "      <td>7.804657e+17</td>\n",
       "      <td>4.196984e+09</td>\n",
       "      <td>11.000000</td>\n",
       "      <td>10.000000</td>\n",
       "    </tr>\n",
       "    <tr>\n",
       "      <th>75%</th>\n",
       "      <td>7.993373e+17</td>\n",
       "      <td>8.257804e+17</td>\n",
       "      <td>4.196984e+09</td>\n",
       "      <td>8.203146e+17</td>\n",
       "      <td>4.196984e+09</td>\n",
       "      <td>12.000000</td>\n",
       "      <td>10.000000</td>\n",
       "    </tr>\n",
       "    <tr>\n",
       "      <th>max</th>\n",
       "      <td>8.924206e+17</td>\n",
       "      <td>8.862664e+17</td>\n",
       "      <td>8.405479e+17</td>\n",
       "      <td>8.874740e+17</td>\n",
       "      <td>7.874618e+17</td>\n",
       "      <td>1776.000000</td>\n",
       "      <td>170.000000</td>\n",
       "    </tr>\n",
       "  </tbody>\n",
       "</table>\n",
       "</div>"
      ],
      "text/plain": [
       "           tweet_id  in_reply_to_status_id  in_reply_to_user_id  \\\n",
       "count  2.356000e+03           7.800000e+01         7.800000e+01   \n",
       "mean   7.427716e+17           7.455079e+17         2.014171e+16   \n",
       "std    6.856705e+16           7.582492e+16         1.252797e+17   \n",
       "min    6.660209e+17           6.658147e+17         1.185634e+07   \n",
       "25%    6.783989e+17           6.757419e+17         3.086374e+08   \n",
       "50%    7.196279e+17           7.038708e+17         4.196984e+09   \n",
       "75%    7.993373e+17           8.257804e+17         4.196984e+09   \n",
       "max    8.924206e+17           8.862664e+17         8.405479e+17   \n",
       "\n",
       "       retweeted_status_id  retweeted_status_user_id  rating_numerator  \\\n",
       "count         1.810000e+02              1.810000e+02       2356.000000   \n",
       "mean          7.720400e+17              1.241698e+16         13.126486   \n",
       "std           6.236928e+16              9.599254e+16         45.876648   \n",
       "min           6.661041e+17              7.832140e+05          0.000000   \n",
       "25%           7.186315e+17              4.196984e+09         10.000000   \n",
       "50%           7.804657e+17              4.196984e+09         11.000000   \n",
       "75%           8.203146e+17              4.196984e+09         12.000000   \n",
       "max           8.874740e+17              7.874618e+17       1776.000000   \n",
       "\n",
       "       rating_denominator  \n",
       "count         2356.000000  \n",
       "mean            10.455433  \n",
       "std              6.745237  \n",
       "min              0.000000  \n",
       "25%             10.000000  \n",
       "50%             10.000000  \n",
       "75%             10.000000  \n",
       "max            170.000000  "
      ]
     },
     "execution_count": 116,
     "metadata": {},
     "output_type": "execute_result"
    }
   ],
   "source": [
    "twitter_a.describe()"
   ]
  },
  {
   "cell_type": "code",
   "execution_count": 117,
   "id": "fa6d15b6",
   "metadata": {},
   "outputs": [
    {
     "data": {
      "text/html": [
       "<div>\n",
       "<style scoped>\n",
       "    .dataframe tbody tr th:only-of-type {\n",
       "        vertical-align: middle;\n",
       "    }\n",
       "\n",
       "    .dataframe tbody tr th {\n",
       "        vertical-align: top;\n",
       "    }\n",
       "\n",
       "    .dataframe thead th {\n",
       "        text-align: right;\n",
       "    }\n",
       "</style>\n",
       "<table border=\"1\" class=\"dataframe\">\n",
       "  <thead>\n",
       "    <tr style=\"text-align: right;\">\n",
       "      <th></th>\n",
       "      <th>tweet_id</th>\n",
       "      <th>in_reply_to_status_id</th>\n",
       "      <th>in_reply_to_user_id</th>\n",
       "      <th>timestamp</th>\n",
       "      <th>source</th>\n",
       "      <th>text</th>\n",
       "      <th>retweeted_status_id</th>\n",
       "      <th>retweeted_status_user_id</th>\n",
       "      <th>retweeted_status_timestamp</th>\n",
       "      <th>expanded_urls</th>\n",
       "      <th>rating_numerator</th>\n",
       "      <th>rating_denominator</th>\n",
       "      <th>name</th>\n",
       "      <th>doggo</th>\n",
       "      <th>floofer</th>\n",
       "      <th>pupper</th>\n",
       "      <th>puppo</th>\n",
       "    </tr>\n",
       "  </thead>\n",
       "  <tbody>\n",
       "  </tbody>\n",
       "</table>\n",
       "</div>"
      ],
      "text/plain": [
       "Empty DataFrame\n",
       "Columns: [tweet_id, in_reply_to_status_id, in_reply_to_user_id, timestamp, source, text, retweeted_status_id, retweeted_status_user_id, retweeted_status_timestamp, expanded_urls, rating_numerator, rating_denominator, name, doggo, floofer, pupper, puppo]\n",
       "Index: []"
      ]
     },
     "execution_count": 117,
     "metadata": {},
     "output_type": "execute_result"
    }
   ],
   "source": [
    "twitter_a[twitter_a.duplicated()]"
   ]
  },
  {
   "cell_type": "code",
   "execution_count": 118,
   "id": "a71d1ebd",
   "metadata": {},
   "outputs": [
    {
     "data": {
      "text/plain": [
       "2355    666020888022790149\n",
       "2354    666029285002620928\n",
       "2353    666033412701032449\n",
       "2352    666044226329800704\n",
       "2351    666049248165822465\n",
       "               ...        \n",
       "4       891327558926688256\n",
       "3       891689557279858688\n",
       "2       891815181378084864\n",
       "1       892177421306343426\n",
       "0       892420643555336193\n",
       "Name: tweet_id, Length: 2356, dtype: int64"
      ]
     },
     "execution_count": 118,
     "metadata": {},
     "output_type": "execute_result"
    }
   ],
   "source": [
    "twitter_a.tweet_id.sort_values()"
   ]
  },
  {
   "cell_type": "code",
   "execution_count": 119,
   "id": "5dabda96",
   "metadata": {},
   "outputs": [
    {
     "data": {
      "text/plain": [
       "2175"
      ]
     },
     "execution_count": 119,
     "metadata": {},
     "output_type": "execute_result"
    }
   ],
   "source": [
    "sum(twitter_a.retweeted_status_id.isnull())"
   ]
  },
  {
   "cell_type": "markdown",
   "id": "9c0a31e6",
   "metadata": {},
   "source": [
    "### Assessing image_p"
   ]
  },
  {
   "cell_type": "code",
   "execution_count": 120,
   "id": "78616ba8",
   "metadata": {},
   "outputs": [
    {
     "name": "stdout",
     "output_type": "stream",
     "text": [
      "<class 'pandas.core.frame.DataFrame'>\n",
      "RangeIndex: 2075 entries, 0 to 2074\n",
      "Data columns (total 12 columns):\n",
      " #   Column    Non-Null Count  Dtype  \n",
      "---  ------    --------------  -----  \n",
      " 0   tweet_id  2075 non-null   int64  \n",
      " 1   jpg_url   2075 non-null   object \n",
      " 2   img_num   2075 non-null   int64  \n",
      " 3   p1        2075 non-null   object \n",
      " 4   p1_conf   2075 non-null   float64\n",
      " 5   p1_dog    2075 non-null   bool   \n",
      " 6   p2        2075 non-null   object \n",
      " 7   p2_conf   2075 non-null   float64\n",
      " 8   p2_dog    2075 non-null   bool   \n",
      " 9   p3        2075 non-null   object \n",
      " 10  p3_conf   2075 non-null   float64\n",
      " 11  p3_dog    2075 non-null   bool   \n",
      "dtypes: bool(3), float64(3), int64(2), object(4)\n",
      "memory usage: 152.1+ KB\n"
     ]
    }
   ],
   "source": [
    "image_p.info()"
   ]
  },
  {
   "cell_type": "code",
   "execution_count": 121,
   "id": "e0365339",
   "metadata": {},
   "outputs": [
    {
     "data": {
      "text/html": [
       "<div>\n",
       "<style scoped>\n",
       "    .dataframe tbody tr th:only-of-type {\n",
       "        vertical-align: middle;\n",
       "    }\n",
       "\n",
       "    .dataframe tbody tr th {\n",
       "        vertical-align: top;\n",
       "    }\n",
       "\n",
       "    .dataframe thead th {\n",
       "        text-align: right;\n",
       "    }\n",
       "</style>\n",
       "<table border=\"1\" class=\"dataframe\">\n",
       "  <thead>\n",
       "    <tr style=\"text-align: right;\">\n",
       "      <th></th>\n",
       "      <th>tweet_id</th>\n",
       "      <th>img_num</th>\n",
       "      <th>p1_conf</th>\n",
       "      <th>p2_conf</th>\n",
       "      <th>p3_conf</th>\n",
       "    </tr>\n",
       "  </thead>\n",
       "  <tbody>\n",
       "    <tr>\n",
       "      <th>count</th>\n",
       "      <td>2.075000e+03</td>\n",
       "      <td>2075.000000</td>\n",
       "      <td>2075.000000</td>\n",
       "      <td>2.075000e+03</td>\n",
       "      <td>2.075000e+03</td>\n",
       "    </tr>\n",
       "    <tr>\n",
       "      <th>mean</th>\n",
       "      <td>7.384514e+17</td>\n",
       "      <td>1.203855</td>\n",
       "      <td>0.594548</td>\n",
       "      <td>1.345886e-01</td>\n",
       "      <td>6.032417e-02</td>\n",
       "    </tr>\n",
       "    <tr>\n",
       "      <th>std</th>\n",
       "      <td>6.785203e+16</td>\n",
       "      <td>0.561875</td>\n",
       "      <td>0.271174</td>\n",
       "      <td>1.006657e-01</td>\n",
       "      <td>5.090593e-02</td>\n",
       "    </tr>\n",
       "    <tr>\n",
       "      <th>min</th>\n",
       "      <td>6.660209e+17</td>\n",
       "      <td>1.000000</td>\n",
       "      <td>0.044333</td>\n",
       "      <td>1.011300e-08</td>\n",
       "      <td>1.740170e-10</td>\n",
       "    </tr>\n",
       "    <tr>\n",
       "      <th>25%</th>\n",
       "      <td>6.764835e+17</td>\n",
       "      <td>1.000000</td>\n",
       "      <td>0.364412</td>\n",
       "      <td>5.388625e-02</td>\n",
       "      <td>1.622240e-02</td>\n",
       "    </tr>\n",
       "    <tr>\n",
       "      <th>50%</th>\n",
       "      <td>7.119988e+17</td>\n",
       "      <td>1.000000</td>\n",
       "      <td>0.588230</td>\n",
       "      <td>1.181810e-01</td>\n",
       "      <td>4.944380e-02</td>\n",
       "    </tr>\n",
       "    <tr>\n",
       "      <th>75%</th>\n",
       "      <td>7.932034e+17</td>\n",
       "      <td>1.000000</td>\n",
       "      <td>0.843855</td>\n",
       "      <td>1.955655e-01</td>\n",
       "      <td>9.180755e-02</td>\n",
       "    </tr>\n",
       "    <tr>\n",
       "      <th>max</th>\n",
       "      <td>8.924206e+17</td>\n",
       "      <td>4.000000</td>\n",
       "      <td>1.000000</td>\n",
       "      <td>4.880140e-01</td>\n",
       "      <td>2.734190e-01</td>\n",
       "    </tr>\n",
       "  </tbody>\n",
       "</table>\n",
       "</div>"
      ],
      "text/plain": [
       "           tweet_id      img_num      p1_conf       p2_conf       p3_conf\n",
       "count  2.075000e+03  2075.000000  2075.000000  2.075000e+03  2.075000e+03\n",
       "mean   7.384514e+17     1.203855     0.594548  1.345886e-01  6.032417e-02\n",
       "std    6.785203e+16     0.561875     0.271174  1.006657e-01  5.090593e-02\n",
       "min    6.660209e+17     1.000000     0.044333  1.011300e-08  1.740170e-10\n",
       "25%    6.764835e+17     1.000000     0.364412  5.388625e-02  1.622240e-02\n",
       "50%    7.119988e+17     1.000000     0.588230  1.181810e-01  4.944380e-02\n",
       "75%    7.932034e+17     1.000000     0.843855  1.955655e-01  9.180755e-02\n",
       "max    8.924206e+17     4.000000     1.000000  4.880140e-01  2.734190e-01"
      ]
     },
     "execution_count": 121,
     "metadata": {},
     "output_type": "execute_result"
    }
   ],
   "source": [
    "image_p.describe()"
   ]
  },
  {
   "cell_type": "code",
   "execution_count": 122,
   "id": "e3be3a44",
   "metadata": {},
   "outputs": [
    {
     "data": {
      "text/html": [
       "<div>\n",
       "<style scoped>\n",
       "    .dataframe tbody tr th:only-of-type {\n",
       "        vertical-align: middle;\n",
       "    }\n",
       "\n",
       "    .dataframe tbody tr th {\n",
       "        vertical-align: top;\n",
       "    }\n",
       "\n",
       "    .dataframe thead th {\n",
       "        text-align: right;\n",
       "    }\n",
       "</style>\n",
       "<table border=\"1\" class=\"dataframe\">\n",
       "  <thead>\n",
       "    <tr style=\"text-align: right;\">\n",
       "      <th></th>\n",
       "      <th>tweet_id</th>\n",
       "      <th>jpg_url</th>\n",
       "      <th>img_num</th>\n",
       "      <th>p1</th>\n",
       "      <th>p1_conf</th>\n",
       "      <th>p1_dog</th>\n",
       "      <th>p2</th>\n",
       "      <th>p2_conf</th>\n",
       "      <th>p2_dog</th>\n",
       "      <th>p3</th>\n",
       "      <th>p3_conf</th>\n",
       "      <th>p3_dog</th>\n",
       "    </tr>\n",
       "  </thead>\n",
       "  <tbody>\n",
       "  </tbody>\n",
       "</table>\n",
       "</div>"
      ],
      "text/plain": [
       "Empty DataFrame\n",
       "Columns: [tweet_id, jpg_url, img_num, p1, p1_conf, p1_dog, p2, p2_conf, p2_dog, p3, p3_conf, p3_dog]\n",
       "Index: []"
      ]
     },
     "execution_count": 122,
     "metadata": {},
     "output_type": "execute_result"
    }
   ],
   "source": [
    "image_p[image_p.duplicated()]"
   ]
  },
  {
   "cell_type": "code",
   "execution_count": 123,
   "id": "85a80382",
   "metadata": {},
   "outputs": [
    {
     "data": {
      "text/plain": [
       "0"
      ]
     },
     "execution_count": 123,
     "metadata": {},
     "output_type": "execute_result"
    }
   ],
   "source": [
    "sum(image_p.tweet_id.isnull())"
   ]
  },
  {
   "cell_type": "markdown",
   "id": "eb01dfcb",
   "metadata": {},
   "source": [
    "### Assessing tweet_data"
   ]
  },
  {
   "cell_type": "code",
   "execution_count": 124,
   "id": "1fe6817c",
   "metadata": {},
   "outputs": [
    {
     "name": "stdout",
     "output_type": "stream",
     "text": [
      "<class 'pandas.core.frame.DataFrame'>\n",
      "RangeIndex: 2354 entries, 0 to 2353\n",
      "Data columns (total 3 columns):\n",
      " #   Column          Non-Null Count  Dtype\n",
      "---  ------          --------------  -----\n",
      " 0   id              2354 non-null   int64\n",
      " 1   retweet_count   2354 non-null   int64\n",
      " 2   favorite_count  2354 non-null   int64\n",
      "dtypes: int64(3)\n",
      "memory usage: 55.3 KB\n"
     ]
    }
   ],
   "source": [
    "tweet_data.info()"
   ]
  },
  {
   "cell_type": "code",
   "execution_count": 125,
   "id": "276e43ab",
   "metadata": {},
   "outputs": [
    {
     "data": {
      "text/html": [
       "<div>\n",
       "<style scoped>\n",
       "    .dataframe tbody tr th:only-of-type {\n",
       "        vertical-align: middle;\n",
       "    }\n",
       "\n",
       "    .dataframe tbody tr th {\n",
       "        vertical-align: top;\n",
       "    }\n",
       "\n",
       "    .dataframe thead th {\n",
       "        text-align: right;\n",
       "    }\n",
       "</style>\n",
       "<table border=\"1\" class=\"dataframe\">\n",
       "  <thead>\n",
       "    <tr style=\"text-align: right;\">\n",
       "      <th></th>\n",
       "      <th>id</th>\n",
       "      <th>retweet_count</th>\n",
       "      <th>favorite_count</th>\n",
       "    </tr>\n",
       "  </thead>\n",
       "  <tbody>\n",
       "    <tr>\n",
       "      <th>count</th>\n",
       "      <td>2.354000e+03</td>\n",
       "      <td>2354.000000</td>\n",
       "      <td>2354.000000</td>\n",
       "    </tr>\n",
       "    <tr>\n",
       "      <th>mean</th>\n",
       "      <td>7.426978e+17</td>\n",
       "      <td>3164.797366</td>\n",
       "      <td>8080.968564</td>\n",
       "    </tr>\n",
       "    <tr>\n",
       "      <th>std</th>\n",
       "      <td>6.852812e+16</td>\n",
       "      <td>5284.770364</td>\n",
       "      <td>11814.771334</td>\n",
       "    </tr>\n",
       "    <tr>\n",
       "      <th>min</th>\n",
       "      <td>6.660209e+17</td>\n",
       "      <td>0.000000</td>\n",
       "      <td>0.000000</td>\n",
       "    </tr>\n",
       "    <tr>\n",
       "      <th>25%</th>\n",
       "      <td>6.783975e+17</td>\n",
       "      <td>624.500000</td>\n",
       "      <td>1415.000000</td>\n",
       "    </tr>\n",
       "    <tr>\n",
       "      <th>50%</th>\n",
       "      <td>7.194596e+17</td>\n",
       "      <td>1473.500000</td>\n",
       "      <td>3603.500000</td>\n",
       "    </tr>\n",
       "    <tr>\n",
       "      <th>75%</th>\n",
       "      <td>7.993058e+17</td>\n",
       "      <td>3652.000000</td>\n",
       "      <td>10122.250000</td>\n",
       "    </tr>\n",
       "    <tr>\n",
       "      <th>max</th>\n",
       "      <td>8.924206e+17</td>\n",
       "      <td>79515.000000</td>\n",
       "      <td>132810.000000</td>\n",
       "    </tr>\n",
       "  </tbody>\n",
       "</table>\n",
       "</div>"
      ],
      "text/plain": [
       "                 id  retweet_count  favorite_count\n",
       "count  2.354000e+03    2354.000000     2354.000000\n",
       "mean   7.426978e+17    3164.797366     8080.968564\n",
       "std    6.852812e+16    5284.770364    11814.771334\n",
       "min    6.660209e+17       0.000000        0.000000\n",
       "25%    6.783975e+17     624.500000     1415.000000\n",
       "50%    7.194596e+17    1473.500000     3603.500000\n",
       "75%    7.993058e+17    3652.000000    10122.250000\n",
       "max    8.924206e+17   79515.000000   132810.000000"
      ]
     },
     "execution_count": 125,
     "metadata": {},
     "output_type": "execute_result"
    }
   ],
   "source": [
    "tweet_data.describe()"
   ]
  },
  {
   "cell_type": "code",
   "execution_count": 126,
   "id": "2ed0ba4e",
   "metadata": {},
   "outputs": [
    {
     "data": {
      "text/html": [
       "<div>\n",
       "<style scoped>\n",
       "    .dataframe tbody tr th:only-of-type {\n",
       "        vertical-align: middle;\n",
       "    }\n",
       "\n",
       "    .dataframe tbody tr th {\n",
       "        vertical-align: top;\n",
       "    }\n",
       "\n",
       "    .dataframe thead th {\n",
       "        text-align: right;\n",
       "    }\n",
       "</style>\n",
       "<table border=\"1\" class=\"dataframe\">\n",
       "  <thead>\n",
       "    <tr style=\"text-align: right;\">\n",
       "      <th></th>\n",
       "      <th>id</th>\n",
       "      <th>retweet_count</th>\n",
       "      <th>favorite_count</th>\n",
       "    </tr>\n",
       "  </thead>\n",
       "  <tbody>\n",
       "  </tbody>\n",
       "</table>\n",
       "</div>"
      ],
      "text/plain": [
       "Empty DataFrame\n",
       "Columns: [id, retweet_count, favorite_count]\n",
       "Index: []"
      ]
     },
     "execution_count": 126,
     "metadata": {},
     "output_type": "execute_result"
    }
   ],
   "source": [
    "tweet_data[tweet_data.duplicated()]"
   ]
  },
  {
   "cell_type": "code",
   "execution_count": 127,
   "id": "0919c3f4",
   "metadata": {},
   "outputs": [
    {
     "data": {
      "text/plain": [
       "0"
      ]
     },
     "execution_count": 127,
     "metadata": {},
     "output_type": "execute_result"
    }
   ],
   "source": [
    "sum(tweet_data.id.isnull())"
   ]
  },
  {
   "cell_type": "markdown",
   "id": "332abe67",
   "metadata": {},
   "source": [
    "### Quality \n",
    "    \n",
    "    \n",
    "##### Completeness\n",
    "    - Table 'twitter_a':\n",
    "        - Missing records in 'expanded_urls', 'retweeted_status_timestamp', 'retweeted_status_user_id', 'retweeted_status_id', 'in_reply_to_user_id' and 'in_reply_to_user_id'\n",
    "    \n",
    "       \n",
    "##### Validity\n",
    "    - Table 'twitter_a':\n",
    "        - Existence of 'None' values in name\n",
    "        - Erroneous datatypes for 'tweet_id' and 'timestamp' and 'id'\n",
    "    - Table 'tweet_data':\n",
    "    - Erroneous column name for 'id'. It should be 'tweet_id'\n",
    "    - Erroneous datatype for  'id'\n",
    " \n",
    "##### Accurracy\n",
    "    - Table 'tweet_data':\n",
    "        - 'Rating_numerator' some times is lower than 10 \n",
    " \n",
    "##### Consistency\n",
    "    - Table 'tweet_data':\n",
    "        - Making name is lower for all \n",
    "        - Unnecessary columns \n",
    "\n"
   ]
  },
  {
   "cell_type": "markdown",
   "id": "568dcb6c",
   "metadata": {},
   "source": [
    "# Tidiness \n",
    "   - table twitter_a: \n",
    "       - Dogs kind 4 variables in 4 columns and it should be in one column\n",
    "       - We need to have one dataframe."
   ]
  },
  {
   "cell_type": "markdown",
   "id": "a8f23aaf",
   "metadata": {},
   "source": [
    "# Clean"
   ]
  },
  {
   "cell_type": "code",
   "execution_count": 128,
   "id": "9fde9d71",
   "metadata": {},
   "outputs": [],
   "source": [
    "twitter_a_cleaning=twitter_a.copy()"
   ]
  },
  {
   "cell_type": "code",
   "execution_count": 129,
   "id": "f42394b5",
   "metadata": {},
   "outputs": [],
   "source": [
    "image_p_cleaning=image_p.copy()"
   ]
  },
  {
   "cell_type": "code",
   "execution_count": 130,
   "id": "64b0e26a",
   "metadata": {},
   "outputs": [],
   "source": [
    "tweet_data_cleaning=tweet_data.copy()"
   ]
  },
  {
   "cell_type": "markdown",
   "id": "b5a182bc",
   "metadata": {},
   "source": [
    "## 1\n",
    "#### Define\n",
    "- Correct 'rating_numerator' values that some times are lower than 10\n",
    "- Adding 10 to the numerator which value is less than 10\n"
   ]
  },
  {
   "cell_type": "markdown",
   "id": "08179603",
   "metadata": {},
   "source": [
    "#### Code"
   ]
  },
  {
   "cell_type": "code",
   "execution_count": 131,
   "id": "e08ec9ee",
   "metadata": {},
   "outputs": [],
   "source": [
    "cond=twitter_a_cleaning['rating_numerator']<10\n",
    "col=twitter_a_cleaning[cond]\n",
    "col_cleaning=col['rating_numerator']\n",
    "col_cleaning=col_cleaning+10"
   ]
  },
  {
   "cell_type": "code",
   "execution_count": 132,
   "id": "af537ec0",
   "metadata": {},
   "outputs": [],
   "source": [
    "twitter_a_cleaning.loc[cond,'rating_numerator']=col_cleaning"
   ]
  },
  {
   "cell_type": "markdown",
   "id": "2b8d2088",
   "metadata": {},
   "source": [
    "#### Test"
   ]
  },
  {
   "cell_type": "code",
   "execution_count": 133,
   "id": "0e9a7f3f",
   "metadata": {},
   "outputs": [
    {
     "data": {
      "text/html": [
       "<div>\n",
       "<style scoped>\n",
       "    .dataframe tbody tr th:only-of-type {\n",
       "        vertical-align: middle;\n",
       "    }\n",
       "\n",
       "    .dataframe tbody tr th {\n",
       "        vertical-align: top;\n",
       "    }\n",
       "\n",
       "    .dataframe thead th {\n",
       "        text-align: right;\n",
       "    }\n",
       "</style>\n",
       "<table border=\"1\" class=\"dataframe\">\n",
       "  <thead>\n",
       "    <tr style=\"text-align: right;\">\n",
       "      <th></th>\n",
       "      <th>tweet_id</th>\n",
       "      <th>in_reply_to_status_id</th>\n",
       "      <th>in_reply_to_user_id</th>\n",
       "      <th>timestamp</th>\n",
       "      <th>source</th>\n",
       "      <th>text</th>\n",
       "      <th>retweeted_status_id</th>\n",
       "      <th>retweeted_status_user_id</th>\n",
       "      <th>retweeted_status_timestamp</th>\n",
       "      <th>expanded_urls</th>\n",
       "      <th>rating_numerator</th>\n",
       "      <th>rating_denominator</th>\n",
       "      <th>name</th>\n",
       "      <th>doggo</th>\n",
       "      <th>floofer</th>\n",
       "      <th>pupper</th>\n",
       "      <th>puppo</th>\n",
       "    </tr>\n",
       "  </thead>\n",
       "  <tbody>\n",
       "  </tbody>\n",
       "</table>\n",
       "</div>"
      ],
      "text/plain": [
       "Empty DataFrame\n",
       "Columns: [tweet_id, in_reply_to_status_id, in_reply_to_user_id, timestamp, source, text, retweeted_status_id, retweeted_status_user_id, retweeted_status_timestamp, expanded_urls, rating_numerator, rating_denominator, name, doggo, floofer, pupper, puppo]\n",
       "Index: []"
      ]
     },
     "execution_count": 133,
     "metadata": {},
     "output_type": "execute_result"
    }
   ],
   "source": [
    "twitter_a_cleaning[twitter_a_cleaning['rating_numerator']<10]"
   ]
  },
  {
   "cell_type": "markdown",
   "id": "c0a54490",
   "metadata": {},
   "source": [
    "## 2\n",
    "#### Define\n",
    "- Erroneous datatypes for 'id', 'tweet_id' and 'timestamp'\n",
    "- Turning all wrong data types below to the right data types. 'tweet_id' must be string and 'timestamp' must be time\n"
   ]
  },
  {
   "cell_type": "markdown",
   "id": "48058b43",
   "metadata": {},
   "source": [
    "#### Code"
   ]
  },
  {
   "cell_type": "code",
   "execution_count": 134,
   "id": "f876a7af",
   "metadata": {},
   "outputs": [],
   "source": [
    "# 'tweet_id' from int to string\n",
    "twitter_a_cleaning['tweet_id']=twitter_a_cleaning['tweet_id'].astype(str)"
   ]
  },
  {
   "cell_type": "code",
   "execution_count": 135,
   "id": "29fa287a",
   "metadata": {},
   "outputs": [],
   "source": [
    "# 'timestamp' from string ti datatime\n",
    "twitter_a_cleaning['timestamp']=pd.to_datetime(twitter_a_cleaning['timestamp'])"
   ]
  },
  {
   "cell_type": "code",
   "execution_count": 136,
   "id": "f5a848be",
   "metadata": {},
   "outputs": [],
   "source": [
    "# 'id' from int to string\n",
    "tweet_data_cleaning['id']=tweet_data_cleaning['id'].astype(str)"
   ]
  },
  {
   "cell_type": "markdown",
   "id": "1d3282b1",
   "metadata": {},
   "source": [
    "#### Test"
   ]
  },
  {
   "cell_type": "code",
   "execution_count": 137,
   "id": "4d564527",
   "metadata": {},
   "outputs": [
    {
     "name": "stdout",
     "output_type": "stream",
     "text": [
      "<class 'pandas.core.frame.DataFrame'>\n",
      "RangeIndex: 2356 entries, 0 to 2355\n",
      "Data columns (total 17 columns):\n",
      " #   Column                      Non-Null Count  Dtype              \n",
      "---  ------                      --------------  -----              \n",
      " 0   tweet_id                    2356 non-null   object             \n",
      " 1   in_reply_to_status_id       78 non-null     float64            \n",
      " 2   in_reply_to_user_id         78 non-null     float64            \n",
      " 3   timestamp                   2356 non-null   datetime64[ns, UTC]\n",
      " 4   source                      2356 non-null   object             \n",
      " 5   text                        2356 non-null   object             \n",
      " 6   retweeted_status_id         181 non-null    float64            \n",
      " 7   retweeted_status_user_id    181 non-null    float64            \n",
      " 8   retweeted_status_timestamp  181 non-null    object             \n",
      " 9   expanded_urls               2297 non-null   object             \n",
      " 10  rating_numerator            2356 non-null   int64              \n",
      " 11  rating_denominator          2356 non-null   int64              \n",
      " 12  name                        2356 non-null   object             \n",
      " 13  doggo                       2356 non-null   object             \n",
      " 14  floofer                     2356 non-null   object             \n",
      " 15  pupper                      2356 non-null   object             \n",
      " 16  puppo                       2356 non-null   object             \n",
      "dtypes: datetime64[ns, UTC](1), float64(4), int64(2), object(10)\n",
      "memory usage: 313.0+ KB\n"
     ]
    }
   ],
   "source": [
    "twitter_a_cleaning.info()"
   ]
  },
  {
   "cell_type": "code",
   "execution_count": 138,
   "id": "69f101e7",
   "metadata": {},
   "outputs": [
    {
     "name": "stdout",
     "output_type": "stream",
     "text": [
      "<class 'pandas.core.frame.DataFrame'>\n",
      "RangeIndex: 2354 entries, 0 to 2353\n",
      "Data columns (total 3 columns):\n",
      " #   Column          Non-Null Count  Dtype \n",
      "---  ------          --------------  ----- \n",
      " 0   id              2354 non-null   object\n",
      " 1   retweet_count   2354 non-null   int64 \n",
      " 2   favorite_count  2354 non-null   int64 \n",
      "dtypes: int64(2), object(1)\n",
      "memory usage: 55.3+ KB\n"
     ]
    }
   ],
   "source": [
    "tweet_data_cleaning.info()"
   ]
  },
  {
   "cell_type": "markdown",
   "id": "3a20ca4b",
   "metadata": {},
   "source": [
    "## 3\n",
    "#### Define\n",
    "- unnecessary columns\n",
    "- Deleting columns without records\n"
   ]
  },
  {
   "cell_type": "markdown",
   "id": "21988ee4",
   "metadata": {},
   "source": [
    "#### Code"
   ]
  },
  {
   "cell_type": "code",
   "execution_count": 139,
   "id": "7d22af19",
   "metadata": {},
   "outputs": [],
   "source": [
    "twitter_a_cleaning=twitter_a_cleaning.drop(['in_reply_to_status_id','in_reply_to_user_id','retweeted_status_id',\n",
    "                                            'retweeted_status_user_id','retweeted_status_timestamp'],axis=1)"
   ]
  },
  {
   "cell_type": "code",
   "execution_count": 140,
   "id": "85f1ed1a",
   "metadata": {},
   "outputs": [],
   "source": [
    "twitter_a_cleaning=twitter_a_cleaning.drop('rating_denominator',axis=1)"
   ]
  },
  {
   "cell_type": "code",
   "execution_count": 141,
   "id": "10aaa5c2",
   "metadata": {},
   "outputs": [],
   "source": [
    "twitter_a_cleaning=twitter_a_cleaning.rename(columns={'rating_numerator':'rating_(over_10)'})"
   ]
  },
  {
   "cell_type": "markdown",
   "id": "cdb2ecd6",
   "metadata": {},
   "source": [
    "#### Test"
   ]
  },
  {
   "cell_type": "code",
   "execution_count": 142,
   "id": "2fd47747",
   "metadata": {},
   "outputs": [
    {
     "data": {
      "text/plain": [
       "tweet_id            1\n",
       "timestamp           1\n",
       "source              1\n",
       "text                1\n",
       "expanded_urls       1\n",
       "rating_(over_10)    1\n",
       "name                1\n",
       "doggo               1\n",
       "floofer             1\n",
       "pupper              1\n",
       "puppo               1\n",
       "dtype: int64"
      ]
     },
     "execution_count": 142,
     "metadata": {},
     "output_type": "execute_result"
    }
   ],
   "source": [
    "twitter_a_cleaning.columns.value_counts()"
   ]
  },
  {
   "cell_type": "markdown",
   "id": "984898ae",
   "metadata": {},
   "source": [
    "## 4\n",
    "#### Define\n",
    " - Missing values in expanded_urls\n",
    " - Drop all missing values\n"
   ]
  },
  {
   "cell_type": "markdown",
   "id": "bf28f348",
   "metadata": {},
   "source": [
    "#### Code"
   ]
  },
  {
   "cell_type": "code",
   "execution_count": 143,
   "id": "57a6c7a3",
   "metadata": {},
   "outputs": [],
   "source": [
    "twitter_a_cleaning=twitter_a_cleaning.dropna()"
   ]
  },
  {
   "cell_type": "markdown",
   "id": "46043e4f",
   "metadata": {},
   "source": [
    "#### Test"
   ]
  },
  {
   "cell_type": "code",
   "execution_count": 144,
   "id": "27c67cda",
   "metadata": {},
   "outputs": [
    {
     "data": {
      "text/plain": [
       "False    2297\n",
       "Name: expanded_urls, dtype: int64"
      ]
     },
     "execution_count": 144,
     "metadata": {},
     "output_type": "execute_result"
    }
   ],
   "source": [
    "twitter_a_cleaning.expanded_urls.isnull().value_counts()"
   ]
  },
  {
   "cell_type": "markdown",
   "id": "adeea0a3",
   "metadata": {},
   "source": [
    "## 5\n",
    "#### Define\n",
    " - Making name is lower for all\n",
    " - Lowercase all names"
   ]
  },
  {
   "cell_type": "markdown",
   "id": "13e464da",
   "metadata": {},
   "source": [
    "#### Code"
   ]
  },
  {
   "cell_type": "code",
   "execution_count": 145,
   "id": "4510ed05",
   "metadata": {},
   "outputs": [],
   "source": [
    "twitter_a_cleaning.name=twitter_a_cleaning.name.str.lower()"
   ]
  },
  {
   "cell_type": "markdown",
   "id": "250f913b",
   "metadata": {},
   "source": [
    "#### Test"
   ]
  },
  {
   "cell_type": "code",
   "execution_count": 146,
   "id": "2e1002d0",
   "metadata": {},
   "outputs": [
    {
     "data": {
      "text/plain": [
       "0        phineas\n",
       "1          tilly\n",
       "2         archie\n",
       "3          darla\n",
       "4       franklin\n",
       "          ...   \n",
       "2351        none\n",
       "2352           a\n",
       "2353           a\n",
       "2354           a\n",
       "2355        none\n",
       "Name: name, Length: 2297, dtype: object"
      ]
     },
     "execution_count": 146,
     "metadata": {},
     "output_type": "execute_result"
    }
   ],
   "source": [
    "twitter_a_cleaning.name"
   ]
  },
  {
   "cell_type": "markdown",
   "id": "9a1af5c0",
   "metadata": {},
   "source": [
    "## 6\n",
    "#### Define\n",
    " - One values in four col | so will merge this four columns"
   ]
  },
  {
   "cell_type": "markdown",
   "id": "9d291656",
   "metadata": {},
   "source": [
    "#### Code"
   ]
  },
  {
   "cell_type": "code",
   "execution_count": 147,
   "id": "022f3608",
   "metadata": {},
   "outputs": [],
   "source": [
    "twitter_a_cleaning=pd.melt(twitter_a_cleaning,id_vars=['tweet_id','timestamp','source','text','expanded_urls',\n",
    "                                                       'rating_(over_10)','name'])"
   ]
  },
  {
   "cell_type": "code",
   "execution_count": 148,
   "id": "8c39e77b",
   "metadata": {},
   "outputs": [],
   "source": [
    "twitter_a_cleaning=twitter_a_cleaning.drop('variable',axis=1)\n",
    "twitter_a_cleaning=twitter_a_cleaning.rename(columns={'value':'dog_stage'})"
   ]
  },
  {
   "cell_type": "markdown",
   "id": "2a0c3e6e",
   "metadata": {},
   "source": [
    "#### Test"
   ]
  },
  {
   "cell_type": "code",
   "execution_count": 149,
   "id": "50fb3644",
   "metadata": {},
   "outputs": [
    {
     "data": {
      "text/html": [
       "<div>\n",
       "<style scoped>\n",
       "    .dataframe tbody tr th:only-of-type {\n",
       "        vertical-align: middle;\n",
       "    }\n",
       "\n",
       "    .dataframe tbody tr th {\n",
       "        vertical-align: top;\n",
       "    }\n",
       "\n",
       "    .dataframe thead th {\n",
       "        text-align: right;\n",
       "    }\n",
       "</style>\n",
       "<table border=\"1\" class=\"dataframe\">\n",
       "  <thead>\n",
       "    <tr style=\"text-align: right;\">\n",
       "      <th></th>\n",
       "      <th>tweet_id</th>\n",
       "      <th>timestamp</th>\n",
       "      <th>source</th>\n",
       "      <th>text</th>\n",
       "      <th>expanded_urls</th>\n",
       "      <th>rating_(over_10)</th>\n",
       "      <th>name</th>\n",
       "      <th>dog_stage</th>\n",
       "    </tr>\n",
       "  </thead>\n",
       "  <tbody>\n",
       "    <tr>\n",
       "      <th>5280</th>\n",
       "      <td>783821107061198850</td>\n",
       "      <td>2016-10-06 00:08:09+00:00</td>\n",
       "      <td>&lt;a href=\"http://twitter.com/download/iphone\" r...</td>\n",
       "      <td>This is Mairi. She has mastered the art of cam...</td>\n",
       "      <td>https://twitter.com/dog_rates/status/783821107...</td>\n",
       "      <td>12</td>\n",
       "      <td>mairi</td>\n",
       "      <td>None</td>\n",
       "    </tr>\n",
       "    <tr>\n",
       "      <th>6728</th>\n",
       "      <td>668932921458302977</td>\n",
       "      <td>2015-11-23 23:23:31+00:00</td>\n",
       "      <td>&lt;a href=\"http://twitter.com/download/iphone\" r...</td>\n",
       "      <td>This is Herald. He likes to swing. Subtle tong...</td>\n",
       "      <td>https://twitter.com/dog_rates/status/668932921...</td>\n",
       "      <td>19</td>\n",
       "      <td>herald</td>\n",
       "      <td>None</td>\n",
       "    </tr>\n",
       "    <tr>\n",
       "      <th>2658</th>\n",
       "      <td>827324948884643840</td>\n",
       "      <td>2017-02-03 01:16:53+00:00</td>\n",
       "      <td>&lt;a href=\"http://twitter.com/download/iphone\" r...</td>\n",
       "      <td>This is Ralphie. He's being treated for an ove...</td>\n",
       "      <td>https://twitter.com/dog_rates/status/827324948...</td>\n",
       "      <td>12</td>\n",
       "      <td>ralphie</td>\n",
       "      <td>None</td>\n",
       "    </tr>\n",
       "    <tr>\n",
       "      <th>2849</th>\n",
       "      <td>800513324630806528</td>\n",
       "      <td>2016-11-21 01:37:04+00:00</td>\n",
       "      <td>&lt;a href=\"http://twitter.com/download/iphone\" r...</td>\n",
       "      <td>This is Chef. Chef loves everyone and wants ev...</td>\n",
       "      <td>https://twitter.com/dog_rates/status/800513324...</td>\n",
       "      <td>11</td>\n",
       "      <td>chef</td>\n",
       "      <td>None</td>\n",
       "    </tr>\n",
       "    <tr>\n",
       "      <th>5191</th>\n",
       "      <td>795400264262053889</td>\n",
       "      <td>2016-11-06 22:59:35+00:00</td>\n",
       "      <td>&lt;a href=\"http://twitter.com/download/iphone\" r...</td>\n",
       "      <td>This is Brody. He's trying to make the same fa...</td>\n",
       "      <td>https://twitter.com/dog_rates/status/795400264...</td>\n",
       "      <td>12</td>\n",
       "      <td>brody</td>\n",
       "      <td>None</td>\n",
       "    </tr>\n",
       "  </tbody>\n",
       "</table>\n",
       "</div>"
      ],
      "text/plain": [
       "                tweet_id                 timestamp  \\\n",
       "5280  783821107061198850 2016-10-06 00:08:09+00:00   \n",
       "6728  668932921458302977 2015-11-23 23:23:31+00:00   \n",
       "2658  827324948884643840 2017-02-03 01:16:53+00:00   \n",
       "2849  800513324630806528 2016-11-21 01:37:04+00:00   \n",
       "5191  795400264262053889 2016-11-06 22:59:35+00:00   \n",
       "\n",
       "                                                 source  \\\n",
       "5280  <a href=\"http://twitter.com/download/iphone\" r...   \n",
       "6728  <a href=\"http://twitter.com/download/iphone\" r...   \n",
       "2658  <a href=\"http://twitter.com/download/iphone\" r...   \n",
       "2849  <a href=\"http://twitter.com/download/iphone\" r...   \n",
       "5191  <a href=\"http://twitter.com/download/iphone\" r...   \n",
       "\n",
       "                                                   text  \\\n",
       "5280  This is Mairi. She has mastered the art of cam...   \n",
       "6728  This is Herald. He likes to swing. Subtle tong...   \n",
       "2658  This is Ralphie. He's being treated for an ove...   \n",
       "2849  This is Chef. Chef loves everyone and wants ev...   \n",
       "5191  This is Brody. He's trying to make the same fa...   \n",
       "\n",
       "                                          expanded_urls  rating_(over_10)  \\\n",
       "5280  https://twitter.com/dog_rates/status/783821107...                12   \n",
       "6728  https://twitter.com/dog_rates/status/668932921...                19   \n",
       "2658  https://twitter.com/dog_rates/status/827324948...                12   \n",
       "2849  https://twitter.com/dog_rates/status/800513324...                11   \n",
       "5191  https://twitter.com/dog_rates/status/795400264...                12   \n",
       "\n",
       "         name dog_stage  \n",
       "5280    mairi      None  \n",
       "6728   herald      None  \n",
       "2658  ralphie      None  \n",
       "2849     chef      None  \n",
       "5191    brody      None  "
      ]
     },
     "execution_count": 149,
     "metadata": {},
     "output_type": "execute_result"
    }
   ],
   "source": [
    "twitter_a_cleaning.sample(5)"
   ]
  },
  {
   "cell_type": "markdown",
   "id": "2df7aec9",
   "metadata": {},
   "source": [
    "## 7\n",
    "#### Define\n",
    " - 'None' values in name \n",
    " - Remove all the 'none' values"
   ]
  },
  {
   "cell_type": "markdown",
   "id": "3ff2aa34",
   "metadata": {},
   "source": [
    "#### Code"
   ]
  },
  {
   "cell_type": "code",
   "execution_count": 150,
   "id": "302273f3",
   "metadata": {},
   "outputs": [],
   "source": [
    "index_arr=twitter_a_cleaning[twitter_a_cleaning['name']=='none'].index\n",
    "twitter_a_cleaning=twitter_a_cleaning.drop(index_arr)"
   ]
  },
  {
   "cell_type": "markdown",
   "id": "ea899750",
   "metadata": {},
   "source": [
    "#### Test"
   ]
  },
  {
   "cell_type": "code",
   "execution_count": 151,
   "id": "a8e8e59b",
   "metadata": {},
   "outputs": [
    {
     "data": {
      "text/html": [
       "<div>\n",
       "<style scoped>\n",
       "    .dataframe tbody tr th:only-of-type {\n",
       "        vertical-align: middle;\n",
       "    }\n",
       "\n",
       "    .dataframe tbody tr th {\n",
       "        vertical-align: top;\n",
       "    }\n",
       "\n",
       "    .dataframe thead th {\n",
       "        text-align: right;\n",
       "    }\n",
       "</style>\n",
       "<table border=\"1\" class=\"dataframe\">\n",
       "  <thead>\n",
       "    <tr style=\"text-align: right;\">\n",
       "      <th></th>\n",
       "      <th>tweet_id</th>\n",
       "      <th>timestamp</th>\n",
       "      <th>source</th>\n",
       "      <th>text</th>\n",
       "      <th>expanded_urls</th>\n",
       "      <th>rating_(over_10)</th>\n",
       "      <th>name</th>\n",
       "      <th>dog_stage</th>\n",
       "    </tr>\n",
       "  </thead>\n",
       "  <tbody>\n",
       "  </tbody>\n",
       "</table>\n",
       "</div>"
      ],
      "text/plain": [
       "Empty DataFrame\n",
       "Columns: [tweet_id, timestamp, source, text, expanded_urls, rating_(over_10), name, dog_stage]\n",
       "Index: []"
      ]
     },
     "execution_count": 151,
     "metadata": {},
     "output_type": "execute_result"
    }
   ],
   "source": [
    "twitter_a_cleaning[twitter_a_cleaning['name']=='none']"
   ]
  },
  {
   "cell_type": "markdown",
   "id": "2d5488ef",
   "metadata": {},
   "source": [
    "## 8\n",
    "#### Define\n",
    " - Rename id to tweet_id"
   ]
  },
  {
   "cell_type": "markdown",
   "id": "57d5a515",
   "metadata": {},
   "source": [
    "#### Code"
   ]
  },
  {
   "cell_type": "code",
   "execution_count": 152,
   "id": "63acc4cf",
   "metadata": {},
   "outputs": [],
   "source": [
    "tweet_data_cleaning=tweet_data_cleaning.rename(columns={'id':'tweet_id'})"
   ]
  },
  {
   "cell_type": "code",
   "execution_count": 153,
   "id": "36087e9e",
   "metadata": {},
   "outputs": [],
   "source": [
    "image_p_cleaning['tweet_id']=image_p_cleaning['tweet_id'].astype(str)"
   ]
  },
  {
   "cell_type": "markdown",
   "id": "b9d4cda5",
   "metadata": {},
   "source": [
    "#### Test"
   ]
  },
  {
   "cell_type": "code",
   "execution_count": 154,
   "id": "b483dcd4",
   "metadata": {},
   "outputs": [
    {
     "name": "stdout",
     "output_type": "stream",
     "text": [
      "<class 'pandas.core.frame.DataFrame'>\n",
      "RangeIndex: 2354 entries, 0 to 2353\n",
      "Data columns (total 3 columns):\n",
      " #   Column          Non-Null Count  Dtype \n",
      "---  ------          --------------  ----- \n",
      " 0   tweet_id        2354 non-null   object\n",
      " 1   retweet_count   2354 non-null   int64 \n",
      " 2   favorite_count  2354 non-null   int64 \n",
      "dtypes: int64(2), object(1)\n",
      "memory usage: 55.3+ KB\n"
     ]
    }
   ],
   "source": [
    "tweet_data_cleaning.info()"
   ]
  },
  {
   "cell_type": "code",
   "execution_count": 155,
   "id": "431291fd",
   "metadata": {},
   "outputs": [
    {
     "name": "stdout",
     "output_type": "stream",
     "text": [
      "<class 'pandas.core.frame.DataFrame'>\n",
      "RangeIndex: 2075 entries, 0 to 2074\n",
      "Data columns (total 12 columns):\n",
      " #   Column    Non-Null Count  Dtype  \n",
      "---  ------    --------------  -----  \n",
      " 0   tweet_id  2075 non-null   object \n",
      " 1   jpg_url   2075 non-null   object \n",
      " 2   img_num   2075 non-null   int64  \n",
      " 3   p1        2075 non-null   object \n",
      " 4   p1_conf   2075 non-null   float64\n",
      " 5   p1_dog    2075 non-null   bool   \n",
      " 6   p2        2075 non-null   object \n",
      " 7   p2_conf   2075 non-null   float64\n",
      " 8   p2_dog    2075 non-null   bool   \n",
      " 9   p3        2075 non-null   object \n",
      " 10  p3_conf   2075 non-null   float64\n",
      " 11  p3_dog    2075 non-null   bool   \n",
      "dtypes: bool(3), float64(3), int64(1), object(5)\n",
      "memory usage: 152.1+ KB\n"
     ]
    }
   ],
   "source": [
    "image_p_cleaning.info()"
   ]
  },
  {
   "cell_type": "markdown",
   "id": "605db611",
   "metadata": {},
   "source": [
    "## 9\n",
    "#### Define\n",
    " - Drop false,false,false p1_dog from image_p"
   ]
  },
  {
   "cell_type": "markdown",
   "id": "398587ba",
   "metadata": {},
   "source": [
    "#### Code"
   ]
  },
  {
   "cell_type": "code",
   "execution_count": 156,
   "id": "6f8e5ae9",
   "metadata": {},
   "outputs": [],
   "source": [
    "false=(image_p_cleaning['p1_dog']==False )& (image_p_cleaning['p2_dog'] == False)&(image_p_cleaning['p3_dog'] == False)\n",
    "false_index=image_p_cleaning[false].index\n",
    "image_p_cleaning=image_p_cleaning.drop(false_index)"
   ]
  },
  {
   "cell_type": "markdown",
   "id": "02958b21",
   "metadata": {},
   "source": [
    "#### Test"
   ]
  },
  {
   "cell_type": "code",
   "execution_count": 157,
   "id": "27eff3bc",
   "metadata": {},
   "outputs": [
    {
     "data": {
      "text/plain": [
       "tweet_id    0\n",
       "jpg_url     0\n",
       "img_num     0\n",
       "p1          0\n",
       "p1_conf     0\n",
       "p1_dog      0\n",
       "p2          0\n",
       "p2_conf     0\n",
       "p2_dog      0\n",
       "p3          0\n",
       "p3_conf     0\n",
       "p3_dog      0\n",
       "dtype: int64"
      ]
     },
     "execution_count": 157,
     "metadata": {},
     "output_type": "execute_result"
    }
   ],
   "source": [
    "image_p_cleaning[image_p_cleaning[(image_p_cleaning['p1_dog']==False )&\n",
    "                                  (image_p_cleaning['p2_dog'] == False)&(image_p_cleaning['p3_dog'] == False)]].count()"
   ]
  },
  {
   "cell_type": "markdown",
   "id": "a58ca67b",
   "metadata": {},
   "source": [
    "## 10\n",
    "#### Define\n",
    " - Manage dog stages"
   ]
  },
  {
   "cell_type": "markdown",
   "id": "39cd9718",
   "metadata": {},
   "source": [
    "#### Code"
   ]
  },
  {
   "cell_type": "markdown",
   "id": "91ffc2e2",
   "metadata": {},
   "source": [
    "###### 1- Remove 'None'  values"
   ]
  },
  {
   "cell_type": "code",
   "execution_count": 158,
   "id": "982d1452",
   "metadata": {},
   "outputs": [],
   "source": [
    "twitter_a.doggo.replace('None', '', inplace= True)"
   ]
  },
  {
   "cell_type": "code",
   "execution_count": 159,
   "id": "4cc0c67f",
   "metadata": {},
   "outputs": [],
   "source": [
    "twitter_a.floofer.replace('None', '', inplace= True)"
   ]
  },
  {
   "cell_type": "code",
   "execution_count": 160,
   "id": "a6f6570b",
   "metadata": {},
   "outputs": [],
   "source": [
    "twitter_a.pupper.replace('None', '', inplace= True)"
   ]
  },
  {
   "cell_type": "code",
   "execution_count": 161,
   "id": "df1e4594",
   "metadata": {},
   "outputs": [],
   "source": [
    "twitter_a.puppo.replace('None', '', inplace= True)"
   ]
  },
  {
   "cell_type": "markdown",
   "id": "5a9c1ad5",
   "metadata": {},
   "source": [
    "###### 2-  Merge doggo, floofer, pupper, puppo columns into one  "
   ]
  },
  {
   "cell_type": "code",
   "execution_count": 162,
   "id": "636a5db5",
   "metadata": {},
   "outputs": [],
   "source": [
    "twitter_a['dog_stage'] =  twitter_a.doggo + twitter_a.floofer + twitter_a.pupper + twitter_a.puppo"
   ]
  },
  {
   "cell_type": "markdown",
   "id": "295f4152",
   "metadata": {},
   "source": [
    "###### 3-  Handle multiple stages  "
   ]
  },
  {
   "cell_type": "code",
   "execution_count": 163,
   "id": "6e96bbd1",
   "metadata": {},
   "outputs": [],
   "source": [
    "twitter_a.loc[twitter_a.dog_stage == 'doggopupper', 'dog_stage'] = 'doggo, pupper'"
   ]
  },
  {
   "cell_type": "code",
   "execution_count": 164,
   "id": "24cbec8d",
   "metadata": {},
   "outputs": [],
   "source": [
    "twitter_a.loc[twitter_a.dog_stage == 'doggopupper', 'dog_stage'] = 'doggo, puppo'"
   ]
  },
  {
   "cell_type": "code",
   "execution_count": 165,
   "id": "3626d0cd",
   "metadata": {},
   "outputs": [],
   "source": [
    "twitter_a.loc[twitter_a.dog_stage == 'doggopupper', 'dog_stage'] = 'doggo, floofer'"
   ]
  },
  {
   "cell_type": "markdown",
   "id": "f4405c03",
   "metadata": {},
   "source": [
    "###### 4-  Handle missing values"
   ]
  },
  {
   "cell_type": "code",
   "execution_count": 166,
   "id": "c0bbff34",
   "metadata": {},
   "outputs": [],
   "source": [
    "twitter_a.loc[twitter_a.dog_stage == '', 'dog_stage'] = np.nan"
   ]
  },
  {
   "cell_type": "markdown",
   "id": "0802ce9f",
   "metadata": {},
   "source": [
    "##### 5- Drop emmpty columns"
   ]
  },
  {
   "cell_type": "code",
   "execution_count": 167,
   "id": "9598b5f8",
   "metadata": {},
   "outputs": [],
   "source": [
    "twitter_a = twitter_a.drop(['doggo'], axis=1)"
   ]
  },
  {
   "cell_type": "code",
   "execution_count": 168,
   "id": "02e83d1f",
   "metadata": {},
   "outputs": [],
   "source": [
    "twitter_a = twitter_a.drop(['floofer'], axis=1)"
   ]
  },
  {
   "cell_type": "code",
   "execution_count": 169,
   "id": "bda87804",
   "metadata": {},
   "outputs": [],
   "source": [
    "twitter_a = twitter_a.drop(['pupper'], axis=1)"
   ]
  },
  {
   "cell_type": "code",
   "execution_count": 170,
   "id": "3a30eef7",
   "metadata": {},
   "outputs": [],
   "source": [
    "twitter_a = twitter_a.drop(['puppo'], axis=1)"
   ]
  },
  {
   "cell_type": "code",
   "execution_count": 171,
   "id": "fa6c00b6",
   "metadata": {},
   "outputs": [],
   "source": [
    "twitter_a_cleaning = twitter_a_cleaning.drop(['dog_stage'], axis = 1)"
   ]
  },
  {
   "cell_type": "markdown",
   "id": "f18de7d8",
   "metadata": {},
   "source": [
    "##### 6- Append to twitter_a_cleaning"
   ]
  },
  {
   "cell_type": "code",
   "execution_count": 172,
   "id": "bf748bd9",
   "metadata": {},
   "outputs": [],
   "source": [
    "dog_stage_series = twitter_a['dog_stage']"
   ]
  },
  {
   "cell_type": "code",
   "execution_count": 173,
   "id": "46d7a9af",
   "metadata": {},
   "outputs": [],
   "source": [
    "twitter_a_cleaning = twitter_a_cleaning.assign(dog_stage = dog_stage_series)"
   ]
  },
  {
   "cell_type": "markdown",
   "id": "4cc4decb",
   "metadata": {},
   "source": [
    "#### Test"
   ]
  },
  {
   "cell_type": "code",
   "execution_count": 174,
   "id": "881f6dfb",
   "metadata": {},
   "outputs": [
    {
     "data": {
      "text/html": [
       "<div>\n",
       "<style scoped>\n",
       "    .dataframe tbody tr th:only-of-type {\n",
       "        vertical-align: middle;\n",
       "    }\n",
       "\n",
       "    .dataframe tbody tr th {\n",
       "        vertical-align: top;\n",
       "    }\n",
       "\n",
       "    .dataframe thead th {\n",
       "        text-align: right;\n",
       "    }\n",
       "</style>\n",
       "<table border=\"1\" class=\"dataframe\">\n",
       "  <thead>\n",
       "    <tr style=\"text-align: right;\">\n",
       "      <th></th>\n",
       "      <th>tweet_id</th>\n",
       "      <th>in_reply_to_status_id</th>\n",
       "      <th>in_reply_to_user_id</th>\n",
       "      <th>timestamp</th>\n",
       "      <th>source</th>\n",
       "      <th>text</th>\n",
       "      <th>retweeted_status_id</th>\n",
       "      <th>retweeted_status_user_id</th>\n",
       "      <th>retweeted_status_timestamp</th>\n",
       "      <th>expanded_urls</th>\n",
       "      <th>rating_numerator</th>\n",
       "      <th>rating_denominator</th>\n",
       "      <th>name</th>\n",
       "      <th>dog_stage</th>\n",
       "    </tr>\n",
       "  </thead>\n",
       "  <tbody>\n",
       "    <tr>\n",
       "      <th>0</th>\n",
       "      <td>892420643555336193</td>\n",
       "      <td>NaN</td>\n",
       "      <td>NaN</td>\n",
       "      <td>2017-08-01 16:23:56 +0000</td>\n",
       "      <td>&lt;a href=\"http://twitter.com/download/iphone\" r...</td>\n",
       "      <td>This is Phineas. He's a mystical boy. Only eve...</td>\n",
       "      <td>NaN</td>\n",
       "      <td>NaN</td>\n",
       "      <td>NaN</td>\n",
       "      <td>https://twitter.com/dog_rates/status/892420643...</td>\n",
       "      <td>13</td>\n",
       "      <td>10</td>\n",
       "      <td>Phineas</td>\n",
       "      <td>NaN</td>\n",
       "    </tr>\n",
       "    <tr>\n",
       "      <th>1</th>\n",
       "      <td>892177421306343426</td>\n",
       "      <td>NaN</td>\n",
       "      <td>NaN</td>\n",
       "      <td>2017-08-01 00:17:27 +0000</td>\n",
       "      <td>&lt;a href=\"http://twitter.com/download/iphone\" r...</td>\n",
       "      <td>This is Tilly. She's just checking pup on you....</td>\n",
       "      <td>NaN</td>\n",
       "      <td>NaN</td>\n",
       "      <td>NaN</td>\n",
       "      <td>https://twitter.com/dog_rates/status/892177421...</td>\n",
       "      <td>13</td>\n",
       "      <td>10</td>\n",
       "      <td>Tilly</td>\n",
       "      <td>NaN</td>\n",
       "    </tr>\n",
       "    <tr>\n",
       "      <th>2</th>\n",
       "      <td>891815181378084864</td>\n",
       "      <td>NaN</td>\n",
       "      <td>NaN</td>\n",
       "      <td>2017-07-31 00:18:03 +0000</td>\n",
       "      <td>&lt;a href=\"http://twitter.com/download/iphone\" r...</td>\n",
       "      <td>This is Archie. He is a rare Norwegian Pouncin...</td>\n",
       "      <td>NaN</td>\n",
       "      <td>NaN</td>\n",
       "      <td>NaN</td>\n",
       "      <td>https://twitter.com/dog_rates/status/891815181...</td>\n",
       "      <td>12</td>\n",
       "      <td>10</td>\n",
       "      <td>Archie</td>\n",
       "      <td>NaN</td>\n",
       "    </tr>\n",
       "    <tr>\n",
       "      <th>3</th>\n",
       "      <td>891689557279858688</td>\n",
       "      <td>NaN</td>\n",
       "      <td>NaN</td>\n",
       "      <td>2017-07-30 15:58:51 +0000</td>\n",
       "      <td>&lt;a href=\"http://twitter.com/download/iphone\" r...</td>\n",
       "      <td>This is Darla. She commenced a snooze mid meal...</td>\n",
       "      <td>NaN</td>\n",
       "      <td>NaN</td>\n",
       "      <td>NaN</td>\n",
       "      <td>https://twitter.com/dog_rates/status/891689557...</td>\n",
       "      <td>13</td>\n",
       "      <td>10</td>\n",
       "      <td>Darla</td>\n",
       "      <td>NaN</td>\n",
       "    </tr>\n",
       "    <tr>\n",
       "      <th>4</th>\n",
       "      <td>891327558926688256</td>\n",
       "      <td>NaN</td>\n",
       "      <td>NaN</td>\n",
       "      <td>2017-07-29 16:00:24 +0000</td>\n",
       "      <td>&lt;a href=\"http://twitter.com/download/iphone\" r...</td>\n",
       "      <td>This is Franklin. He would like you to stop ca...</td>\n",
       "      <td>NaN</td>\n",
       "      <td>NaN</td>\n",
       "      <td>NaN</td>\n",
       "      <td>https://twitter.com/dog_rates/status/891327558...</td>\n",
       "      <td>12</td>\n",
       "      <td>10</td>\n",
       "      <td>Franklin</td>\n",
       "      <td>NaN</td>\n",
       "    </tr>\n",
       "  </tbody>\n",
       "</table>\n",
       "</div>"
      ],
      "text/plain": [
       "             tweet_id  in_reply_to_status_id  in_reply_to_user_id  \\\n",
       "0  892420643555336193                    NaN                  NaN   \n",
       "1  892177421306343426                    NaN                  NaN   \n",
       "2  891815181378084864                    NaN                  NaN   \n",
       "3  891689557279858688                    NaN                  NaN   \n",
       "4  891327558926688256                    NaN                  NaN   \n",
       "\n",
       "                   timestamp  \\\n",
       "0  2017-08-01 16:23:56 +0000   \n",
       "1  2017-08-01 00:17:27 +0000   \n",
       "2  2017-07-31 00:18:03 +0000   \n",
       "3  2017-07-30 15:58:51 +0000   \n",
       "4  2017-07-29 16:00:24 +0000   \n",
       "\n",
       "                                              source  \\\n",
       "0  <a href=\"http://twitter.com/download/iphone\" r...   \n",
       "1  <a href=\"http://twitter.com/download/iphone\" r...   \n",
       "2  <a href=\"http://twitter.com/download/iphone\" r...   \n",
       "3  <a href=\"http://twitter.com/download/iphone\" r...   \n",
       "4  <a href=\"http://twitter.com/download/iphone\" r...   \n",
       "\n",
       "                                                text  retweeted_status_id  \\\n",
       "0  This is Phineas. He's a mystical boy. Only eve...                  NaN   \n",
       "1  This is Tilly. She's just checking pup on you....                  NaN   \n",
       "2  This is Archie. He is a rare Norwegian Pouncin...                  NaN   \n",
       "3  This is Darla. She commenced a snooze mid meal...                  NaN   \n",
       "4  This is Franklin. He would like you to stop ca...                  NaN   \n",
       "\n",
       "   retweeted_status_user_id retweeted_status_timestamp  \\\n",
       "0                       NaN                        NaN   \n",
       "1                       NaN                        NaN   \n",
       "2                       NaN                        NaN   \n",
       "3                       NaN                        NaN   \n",
       "4                       NaN                        NaN   \n",
       "\n",
       "                                       expanded_urls  rating_numerator  \\\n",
       "0  https://twitter.com/dog_rates/status/892420643...                13   \n",
       "1  https://twitter.com/dog_rates/status/892177421...                13   \n",
       "2  https://twitter.com/dog_rates/status/891815181...                12   \n",
       "3  https://twitter.com/dog_rates/status/891689557...                13   \n",
       "4  https://twitter.com/dog_rates/status/891327558...                12   \n",
       "\n",
       "   rating_denominator      name dog_stage  \n",
       "0                  10   Phineas       NaN  \n",
       "1                  10     Tilly       NaN  \n",
       "2                  10    Archie       NaN  \n",
       "3                  10     Darla       NaN  \n",
       "4                  10  Franklin       NaN  "
      ]
     },
     "execution_count": 174,
     "metadata": {},
     "output_type": "execute_result"
    }
   ],
   "source": [
    "twitter_a.head()"
   ]
  },
  {
   "cell_type": "code",
   "execution_count": 175,
   "id": "a2733510",
   "metadata": {},
   "outputs": [
    {
     "data": {
      "text/html": [
       "<div>\n",
       "<style scoped>\n",
       "    .dataframe tbody tr th:only-of-type {\n",
       "        vertical-align: middle;\n",
       "    }\n",
       "\n",
       "    .dataframe tbody tr th {\n",
       "        vertical-align: top;\n",
       "    }\n",
       "\n",
       "    .dataframe thead th {\n",
       "        text-align: right;\n",
       "    }\n",
       "</style>\n",
       "<table border=\"1\" class=\"dataframe\">\n",
       "  <thead>\n",
       "    <tr style=\"text-align: right;\">\n",
       "      <th></th>\n",
       "      <th>tweet_id</th>\n",
       "      <th>timestamp</th>\n",
       "      <th>source</th>\n",
       "      <th>text</th>\n",
       "      <th>expanded_urls</th>\n",
       "      <th>rating_(over_10)</th>\n",
       "      <th>name</th>\n",
       "      <th>dog_stage</th>\n",
       "    </tr>\n",
       "  </thead>\n",
       "  <tbody>\n",
       "    <tr>\n",
       "      <th>0</th>\n",
       "      <td>892420643555336193</td>\n",
       "      <td>2017-08-01 16:23:56+00:00</td>\n",
       "      <td>&lt;a href=\"http://twitter.com/download/iphone\" r...</td>\n",
       "      <td>This is Phineas. He's a mystical boy. Only eve...</td>\n",
       "      <td>https://twitter.com/dog_rates/status/892420643...</td>\n",
       "      <td>13</td>\n",
       "      <td>phineas</td>\n",
       "      <td>NaN</td>\n",
       "    </tr>\n",
       "    <tr>\n",
       "      <th>1</th>\n",
       "      <td>892177421306343426</td>\n",
       "      <td>2017-08-01 00:17:27+00:00</td>\n",
       "      <td>&lt;a href=\"http://twitter.com/download/iphone\" r...</td>\n",
       "      <td>This is Tilly. She's just checking pup on you....</td>\n",
       "      <td>https://twitter.com/dog_rates/status/892177421...</td>\n",
       "      <td>13</td>\n",
       "      <td>tilly</td>\n",
       "      <td>NaN</td>\n",
       "    </tr>\n",
       "    <tr>\n",
       "      <th>2</th>\n",
       "      <td>891815181378084864</td>\n",
       "      <td>2017-07-31 00:18:03+00:00</td>\n",
       "      <td>&lt;a href=\"http://twitter.com/download/iphone\" r...</td>\n",
       "      <td>This is Archie. He is a rare Norwegian Pouncin...</td>\n",
       "      <td>https://twitter.com/dog_rates/status/891815181...</td>\n",
       "      <td>12</td>\n",
       "      <td>archie</td>\n",
       "      <td>NaN</td>\n",
       "    </tr>\n",
       "    <tr>\n",
       "      <th>3</th>\n",
       "      <td>891689557279858688</td>\n",
       "      <td>2017-07-30 15:58:51+00:00</td>\n",
       "      <td>&lt;a href=\"http://twitter.com/download/iphone\" r...</td>\n",
       "      <td>This is Darla. She commenced a snooze mid meal...</td>\n",
       "      <td>https://twitter.com/dog_rates/status/891689557...</td>\n",
       "      <td>13</td>\n",
       "      <td>darla</td>\n",
       "      <td>NaN</td>\n",
       "    </tr>\n",
       "    <tr>\n",
       "      <th>4</th>\n",
       "      <td>891327558926688256</td>\n",
       "      <td>2017-07-29 16:00:24+00:00</td>\n",
       "      <td>&lt;a href=\"http://twitter.com/download/iphone\" r...</td>\n",
       "      <td>This is Franklin. He would like you to stop ca...</td>\n",
       "      <td>https://twitter.com/dog_rates/status/891327558...</td>\n",
       "      <td>12</td>\n",
       "      <td>franklin</td>\n",
       "      <td>NaN</td>\n",
       "    </tr>\n",
       "  </tbody>\n",
       "</table>\n",
       "</div>"
      ],
      "text/plain": [
       "             tweet_id                 timestamp  \\\n",
       "0  892420643555336193 2017-08-01 16:23:56+00:00   \n",
       "1  892177421306343426 2017-08-01 00:17:27+00:00   \n",
       "2  891815181378084864 2017-07-31 00:18:03+00:00   \n",
       "3  891689557279858688 2017-07-30 15:58:51+00:00   \n",
       "4  891327558926688256 2017-07-29 16:00:24+00:00   \n",
       "\n",
       "                                              source  \\\n",
       "0  <a href=\"http://twitter.com/download/iphone\" r...   \n",
       "1  <a href=\"http://twitter.com/download/iphone\" r...   \n",
       "2  <a href=\"http://twitter.com/download/iphone\" r...   \n",
       "3  <a href=\"http://twitter.com/download/iphone\" r...   \n",
       "4  <a href=\"http://twitter.com/download/iphone\" r...   \n",
       "\n",
       "                                                text  \\\n",
       "0  This is Phineas. He's a mystical boy. Only eve...   \n",
       "1  This is Tilly. She's just checking pup on you....   \n",
       "2  This is Archie. He is a rare Norwegian Pouncin...   \n",
       "3  This is Darla. She commenced a snooze mid meal...   \n",
       "4  This is Franklin. He would like you to stop ca...   \n",
       "\n",
       "                                       expanded_urls  rating_(over_10)  \\\n",
       "0  https://twitter.com/dog_rates/status/892420643...                13   \n",
       "1  https://twitter.com/dog_rates/status/892177421...                13   \n",
       "2  https://twitter.com/dog_rates/status/891815181...                12   \n",
       "3  https://twitter.com/dog_rates/status/891689557...                13   \n",
       "4  https://twitter.com/dog_rates/status/891327558...                12   \n",
       "\n",
       "       name dog_stage  \n",
       "0   phineas       NaN  \n",
       "1     tilly       NaN  \n",
       "2    archie       NaN  \n",
       "3     darla       NaN  \n",
       "4  franklin       NaN  "
      ]
     },
     "execution_count": 175,
     "metadata": {},
     "output_type": "execute_result"
    }
   ],
   "source": [
    "twitter_a_cleaning.head()"
   ]
  },
  {
   "cell_type": "markdown",
   "id": "43f8f691",
   "metadata": {},
   "source": [
    "## Tidinesss"
   ]
  },
  {
   "cell_type": "markdown",
   "id": "6e250299",
   "metadata": {},
   "source": [
    "#### Code"
   ]
  },
  {
   "cell_type": "code",
   "execution_count": 176,
   "id": "c1b1d92d",
   "metadata": {},
   "outputs": [],
   "source": [
    "the_final_data=pd.merge(twitter_a_cleaning,image_p_cleaning,on='tweet_id',how='left')"
   ]
  },
  {
   "cell_type": "code",
   "execution_count": 177,
   "id": "642671d3",
   "metadata": {},
   "outputs": [],
   "source": [
    "the_final_data=pd.merge(the_final_data,tweet_data_cleaning,on='tweet_id',how='left')"
   ]
  },
  {
   "cell_type": "markdown",
   "id": "d1f232a0",
   "metadata": {},
   "source": [
    "#### Test"
   ]
  },
  {
   "cell_type": "code",
   "execution_count": 178,
   "id": "7c701d63",
   "metadata": {},
   "outputs": [
    {
     "data": {
      "text/html": [
       "<div>\n",
       "<style scoped>\n",
       "    .dataframe tbody tr th:only-of-type {\n",
       "        vertical-align: middle;\n",
       "    }\n",
       "\n",
       "    .dataframe tbody tr th {\n",
       "        vertical-align: top;\n",
       "    }\n",
       "\n",
       "    .dataframe thead th {\n",
       "        text-align: right;\n",
       "    }\n",
       "</style>\n",
       "<table border=\"1\" class=\"dataframe\">\n",
       "  <thead>\n",
       "    <tr style=\"text-align: right;\">\n",
       "      <th></th>\n",
       "      <th>tweet_id</th>\n",
       "      <th>timestamp</th>\n",
       "      <th>source</th>\n",
       "      <th>text</th>\n",
       "      <th>expanded_urls</th>\n",
       "      <th>rating_(over_10)</th>\n",
       "      <th>name</th>\n",
       "      <th>dog_stage</th>\n",
       "      <th>jpg_url</th>\n",
       "      <th>img_num</th>\n",
       "      <th>...</th>\n",
       "      <th>p1_conf</th>\n",
       "      <th>p1_dog</th>\n",
       "      <th>p2</th>\n",
       "      <th>p2_conf</th>\n",
       "      <th>p2_dog</th>\n",
       "      <th>p3</th>\n",
       "      <th>p3_conf</th>\n",
       "      <th>p3_dog</th>\n",
       "      <th>retweet_count</th>\n",
       "      <th>favorite_count</th>\n",
       "    </tr>\n",
       "  </thead>\n",
       "  <tbody>\n",
       "    <tr>\n",
       "      <th>4065</th>\n",
       "      <td>723179728551723008</td>\n",
       "      <td>2016-04-21 16:00:57+00:00</td>\n",
       "      <td>&lt;a href=\"http://twitter.com/download/iphone\" r...</td>\n",
       "      <td>This is Jangle. She's addicted to broccoli. It...</td>\n",
       "      <td>https://twitter.com/dog_rates/status/723179728...</td>\n",
       "      <td>18</td>\n",
       "      <td>jangle</td>\n",
       "      <td>NaN</td>\n",
       "      <td>https://pbs.twimg.com/media/CglAHjAUgAAfxcq.jpg</td>\n",
       "      <td>1.0</td>\n",
       "      <td>...</td>\n",
       "      <td>0.176495</td>\n",
       "      <td>False</td>\n",
       "      <td>badger</td>\n",
       "      <td>0.059905</td>\n",
       "      <td>False</td>\n",
       "      <td>Norwegian_elkhound</td>\n",
       "      <td>0.056850</td>\n",
       "      <td>True</td>\n",
       "      <td>2110.0</td>\n",
       "      <td>5761.0</td>\n",
       "    </tr>\n",
       "    <tr>\n",
       "      <th>4448</th>\n",
       "      <td>679475951516934144</td>\n",
       "      <td>2015-12-23 01:37:45+00:00</td>\n",
       "      <td>&lt;a href=\"http://twitter.com/download/iphone\" r...</td>\n",
       "      <td>This is Evy. She doesn't want to be a Koala. 9...</td>\n",
       "      <td>https://twitter.com/dog_rates/status/679475951...</td>\n",
       "      <td>19</td>\n",
       "      <td>evy</td>\n",
       "      <td>NaN</td>\n",
       "      <td>https://pbs.twimg.com/media/CW37xZbUoAAUXe5.jpg</td>\n",
       "      <td>1.0</td>\n",
       "      <td>...</td>\n",
       "      <td>0.145742</td>\n",
       "      <td>True</td>\n",
       "      <td>toy_poodle</td>\n",
       "      <td>0.139407</td>\n",
       "      <td>True</td>\n",
       "      <td>West_Highland_white_terrier</td>\n",
       "      <td>0.108821</td>\n",
       "      <td>True</td>\n",
       "      <td>728.0</td>\n",
       "      <td>2304.0</td>\n",
       "    </tr>\n",
       "    <tr>\n",
       "      <th>5272</th>\n",
       "      <td>798209839306514432</td>\n",
       "      <td>2016-11-14 17:03:50+00:00</td>\n",
       "      <td>&lt;a href=\"http://twitter.com/download/iphone\" r...</td>\n",
       "      <td>This is Cooper. His bow tie was too heavy for ...</td>\n",
       "      <td>https://twitter.com/dog_rates/status/798209839...</td>\n",
       "      <td>13</td>\n",
       "      <td>cooper</td>\n",
       "      <td>NaN</td>\n",
       "      <td>https://pbs.twimg.com/media/CxPPnCYWIAAo_ao.jpg</td>\n",
       "      <td>1.0</td>\n",
       "      <td>...</td>\n",
       "      <td>0.524583</td>\n",
       "      <td>True</td>\n",
       "      <td>Shih-Tzu</td>\n",
       "      <td>0.102931</td>\n",
       "      <td>True</td>\n",
       "      <td>Pomeranian</td>\n",
       "      <td>0.097893</td>\n",
       "      <td>True</td>\n",
       "      <td>2954.0</td>\n",
       "      <td>11548.0</td>\n",
       "    </tr>\n",
       "    <tr>\n",
       "      <th>3496</th>\n",
       "      <td>827199976799354881</td>\n",
       "      <td>2017-02-02 17:00:17+00:00</td>\n",
       "      <td>&lt;a href=\"http://twitter.com/download/iphone\" r...</td>\n",
       "      <td>This is Charlie. He wins every game of chess h...</td>\n",
       "      <td>https://twitter.com/dog_rates/status/827199976...</td>\n",
       "      <td>13</td>\n",
       "      <td>charlie</td>\n",
       "      <td>NaN</td>\n",
       "      <td>https://pbs.twimg.com/media/C3rN-lcWEAA9CmR.jpg</td>\n",
       "      <td>4.0</td>\n",
       "      <td>...</td>\n",
       "      <td>0.869681</td>\n",
       "      <td>True</td>\n",
       "      <td>American_Staffordshire_terrier</td>\n",
       "      <td>0.026658</td>\n",
       "      <td>True</td>\n",
       "      <td>boxer</td>\n",
       "      <td>0.019866</td>\n",
       "      <td>True</td>\n",
       "      <td>2579.0</td>\n",
       "      <td>11659.0</td>\n",
       "    </tr>\n",
       "    <tr>\n",
       "      <th>308</th>\n",
       "      <td>820837357901512704</td>\n",
       "      <td>2017-01-16 03:37:31+00:00</td>\n",
       "      <td>&lt;a href=\"http://twitter.com/download/iphone\" r...</td>\n",
       "      <td>RT @dog_rates: This is Finn. He's wondering if...</td>\n",
       "      <td>https://twitter.com/dog_rates/status/819227688...</td>\n",
       "      <td>12</td>\n",
       "      <td>finn</td>\n",
       "      <td>NaN</td>\n",
       "      <td>NaN</td>\n",
       "      <td>NaN</td>\n",
       "      <td>...</td>\n",
       "      <td>NaN</td>\n",
       "      <td>NaN</td>\n",
       "      <td>NaN</td>\n",
       "      <td>NaN</td>\n",
       "      <td>NaN</td>\n",
       "      <td>NaN</td>\n",
       "      <td>NaN</td>\n",
       "      <td>NaN</td>\n",
       "      <td>7733.0</td>\n",
       "      <td>0.0</td>\n",
       "    </tr>\n",
       "  </tbody>\n",
       "</table>\n",
       "<p>5 rows × 21 columns</p>\n",
       "</div>"
      ],
      "text/plain": [
       "                tweet_id                 timestamp  \\\n",
       "4065  723179728551723008 2016-04-21 16:00:57+00:00   \n",
       "4448  679475951516934144 2015-12-23 01:37:45+00:00   \n",
       "5272  798209839306514432 2016-11-14 17:03:50+00:00   \n",
       "3496  827199976799354881 2017-02-02 17:00:17+00:00   \n",
       "308   820837357901512704 2017-01-16 03:37:31+00:00   \n",
       "\n",
       "                                                 source  \\\n",
       "4065  <a href=\"http://twitter.com/download/iphone\" r...   \n",
       "4448  <a href=\"http://twitter.com/download/iphone\" r...   \n",
       "5272  <a href=\"http://twitter.com/download/iphone\" r...   \n",
       "3496  <a href=\"http://twitter.com/download/iphone\" r...   \n",
       "308   <a href=\"http://twitter.com/download/iphone\" r...   \n",
       "\n",
       "                                                   text  \\\n",
       "4065  This is Jangle. She's addicted to broccoli. It...   \n",
       "4448  This is Evy. She doesn't want to be a Koala. 9...   \n",
       "5272  This is Cooper. His bow tie was too heavy for ...   \n",
       "3496  This is Charlie. He wins every game of chess h...   \n",
       "308   RT @dog_rates: This is Finn. He's wondering if...   \n",
       "\n",
       "                                          expanded_urls  rating_(over_10)  \\\n",
       "4065  https://twitter.com/dog_rates/status/723179728...                18   \n",
       "4448  https://twitter.com/dog_rates/status/679475951...                19   \n",
       "5272  https://twitter.com/dog_rates/status/798209839...                13   \n",
       "3496  https://twitter.com/dog_rates/status/827199976...                13   \n",
       "308   https://twitter.com/dog_rates/status/819227688...                12   \n",
       "\n",
       "         name dog_stage                                          jpg_url  \\\n",
       "4065   jangle       NaN  https://pbs.twimg.com/media/CglAHjAUgAAfxcq.jpg   \n",
       "4448      evy       NaN  https://pbs.twimg.com/media/CW37xZbUoAAUXe5.jpg   \n",
       "5272   cooper       NaN  https://pbs.twimg.com/media/CxPPnCYWIAAo_ao.jpg   \n",
       "3496  charlie       NaN  https://pbs.twimg.com/media/C3rN-lcWEAA9CmR.jpg   \n",
       "308      finn       NaN                                              NaN   \n",
       "\n",
       "      img_num  ...   p1_conf  p1_dog                              p2  \\\n",
       "4065      1.0  ...  0.176495   False                          badger   \n",
       "4448      1.0  ...  0.145742    True                      toy_poodle   \n",
       "5272      1.0  ...  0.524583    True                        Shih-Tzu   \n",
       "3496      4.0  ...  0.869681    True  American_Staffordshire_terrier   \n",
       "308       NaN  ...       NaN     NaN                             NaN   \n",
       "\n",
       "       p2_conf  p2_dog                           p3   p3_conf  p3_dog  \\\n",
       "4065  0.059905   False           Norwegian_elkhound  0.056850    True   \n",
       "4448  0.139407    True  West_Highland_white_terrier  0.108821    True   \n",
       "5272  0.102931    True                   Pomeranian  0.097893    True   \n",
       "3496  0.026658    True                        boxer  0.019866    True   \n",
       "308        NaN     NaN                          NaN       NaN     NaN   \n",
       "\n",
       "     retweet_count  favorite_count  \n",
       "4065        2110.0          5761.0  \n",
       "4448         728.0          2304.0  \n",
       "5272        2954.0         11548.0  \n",
       "3496        2579.0         11659.0  \n",
       "308         7733.0             0.0  \n",
       "\n",
       "[5 rows x 21 columns]"
      ]
     },
     "execution_count": 178,
     "metadata": {},
     "output_type": "execute_result"
    }
   ],
   "source": [
    "the_final_data.sample(5)"
   ]
  },
  {
   "cell_type": "code",
   "execution_count": 179,
   "id": "1a68d0ef",
   "metadata": {},
   "outputs": [
    {
     "name": "stdout",
     "output_type": "stream",
     "text": [
      "<class 'pandas.core.frame.DataFrame'>\n",
      "Int64Index: 6444 entries, 0 to 6443\n",
      "Data columns (total 21 columns):\n",
      " #   Column            Non-Null Count  Dtype              \n",
      "---  ------            --------------  -----              \n",
      " 0   tweet_id          6444 non-null   object             \n",
      " 1   timestamp         6444 non-null   datetime64[ns, UTC]\n",
      " 2   source            6444 non-null   object             \n",
      " 3   text              6444 non-null   object             \n",
      " 4   expanded_urls     6444 non-null   object             \n",
      " 5   rating_(over_10)  6444 non-null   int64              \n",
      " 6   name              6444 non-null   object             \n",
      " 7   dog_stage         275 non-null    object             \n",
      " 8   jpg_url           5248 non-null   object             \n",
      " 9   img_num           5248 non-null   float64            \n",
      " 10  p1                5248 non-null   object             \n",
      " 11  p1_conf           5248 non-null   float64            \n",
      " 12  p1_dog            5248 non-null   object             \n",
      " 13  p2                5248 non-null   object             \n",
      " 14  p2_conf           5248 non-null   float64            \n",
      " 15  p2_dog            5248 non-null   object             \n",
      " 16  p3                5248 non-null   object             \n",
      " 17  p3_conf           5248 non-null   float64            \n",
      " 18  p3_dog            5248 non-null   object             \n",
      " 19  retweet_count     6440 non-null   float64            \n",
      " 20  favorite_count    6440 non-null   float64            \n",
      "dtypes: datetime64[ns, UTC](1), float64(6), int64(1), object(13)\n",
      "memory usage: 1.1+ MB\n"
     ]
    }
   ],
   "source": [
    "the_final_data.info()"
   ]
  },
  {
   "cell_type": "markdown",
   "id": "afb2b11b",
   "metadata": {},
   "source": [
    "## 2\n",
    "#### Define\n",
    " -  some tweet_id didn't match so some missing values just appeared ,so will drop it "
   ]
  },
  {
   "cell_type": "markdown",
   "id": "7b184114",
   "metadata": {},
   "source": [
    "#### Code"
   ]
  },
  {
   "cell_type": "code",
   "execution_count": 180,
   "id": "ad7d9f2a",
   "metadata": {},
   "outputs": [],
   "source": [
    "the_final_data=the_final_data.dropna()"
   ]
  },
  {
   "cell_type": "code",
   "execution_count": 181,
   "id": "0ecab025",
   "metadata": {},
   "outputs": [],
   "source": [
    "the_final_data['p1_dog']=the_final_data['p1_dog'].astype(bool)\n",
    "the_final_data['p2_dog']=the_final_data['p2_dog'].astype(bool)\n",
    "the_final_data['p3_dog']=the_final_data['p3_dog'].astype(bool)"
   ]
  },
  {
   "cell_type": "markdown",
   "id": "44811aaa",
   "metadata": {},
   "source": [
    "#### Test"
   ]
  },
  {
   "cell_type": "code",
   "execution_count": 182,
   "id": "2f89e7f1",
   "metadata": {},
   "outputs": [
    {
     "name": "stdout",
     "output_type": "stream",
     "text": [
      "<class 'pandas.core.frame.DataFrame'>\n",
      "Int64Index: 216 entries, 7 to 1423\n",
      "Data columns (total 21 columns):\n",
      " #   Column            Non-Null Count  Dtype              \n",
      "---  ------            --------------  -----              \n",
      " 0   tweet_id          216 non-null    object             \n",
      " 1   timestamp         216 non-null    datetime64[ns, UTC]\n",
      " 2   source            216 non-null    object             \n",
      " 3   text              216 non-null    object             \n",
      " 4   expanded_urls     216 non-null    object             \n",
      " 5   rating_(over_10)  216 non-null    int64              \n",
      " 6   name              216 non-null    object             \n",
      " 7   dog_stage         216 non-null    object             \n",
      " 8   jpg_url           216 non-null    object             \n",
      " 9   img_num           216 non-null    float64            \n",
      " 10  p1                216 non-null    object             \n",
      " 11  p1_conf           216 non-null    float64            \n",
      " 12  p1_dog            216 non-null    bool               \n",
      " 13  p2                216 non-null    object             \n",
      " 14  p2_conf           216 non-null    float64            \n",
      " 15  p2_dog            216 non-null    bool               \n",
      " 16  p3                216 non-null    object             \n",
      " 17  p3_conf           216 non-null    float64            \n",
      " 18  p3_dog            216 non-null    bool               \n",
      " 19  retweet_count     216 non-null    float64            \n",
      " 20  favorite_count    216 non-null    float64            \n",
      "dtypes: bool(3), datetime64[ns, UTC](1), float64(6), int64(1), object(10)\n",
      "memory usage: 32.7+ KB\n"
     ]
    }
   ],
   "source": [
    "the_final_data.info()"
   ]
  },
  {
   "cell_type": "code",
   "execution_count": 183,
   "id": "18faa8ee",
   "metadata": {},
   "outputs": [
    {
     "data": {
      "text/html": [
       "<div>\n",
       "<style scoped>\n",
       "    .dataframe tbody tr th:only-of-type {\n",
       "        vertical-align: middle;\n",
       "    }\n",
       "\n",
       "    .dataframe tbody tr th {\n",
       "        vertical-align: top;\n",
       "    }\n",
       "\n",
       "    .dataframe thead th {\n",
       "        text-align: right;\n",
       "    }\n",
       "</style>\n",
       "<table border=\"1\" class=\"dataframe\">\n",
       "  <thead>\n",
       "    <tr style=\"text-align: right;\">\n",
       "      <th></th>\n",
       "      <th>tweet_id</th>\n",
       "      <th>timestamp</th>\n",
       "      <th>source</th>\n",
       "      <th>text</th>\n",
       "      <th>expanded_urls</th>\n",
       "      <th>rating_(over_10)</th>\n",
       "      <th>name</th>\n",
       "      <th>dog_stage</th>\n",
       "      <th>jpg_url</th>\n",
       "      <th>img_num</th>\n",
       "      <th>...</th>\n",
       "      <th>p1_conf</th>\n",
       "      <th>p1_dog</th>\n",
       "      <th>p2</th>\n",
       "      <th>p2_conf</th>\n",
       "      <th>p2_dog</th>\n",
       "      <th>p3</th>\n",
       "      <th>p3_conf</th>\n",
       "      <th>p3_dog</th>\n",
       "      <th>retweet_count</th>\n",
       "      <th>favorite_count</th>\n",
       "    </tr>\n",
       "  </thead>\n",
       "  <tbody>\n",
       "    <tr>\n",
       "      <th>7</th>\n",
       "      <td>890240255349198849</td>\n",
       "      <td>2017-07-26 15:59:51+00:00</td>\n",
       "      <td>&lt;a href=\"http://twitter.com/download/iphone\" r...</td>\n",
       "      <td>This is Cassie. She is a college pup. Studying...</td>\n",
       "      <td>https://twitter.com/dog_rates/status/890240255...</td>\n",
       "      <td>14</td>\n",
       "      <td>cassie</td>\n",
       "      <td>doggo</td>\n",
       "      <td>https://pbs.twimg.com/media/DFrEyVuW0AAO3t9.jpg</td>\n",
       "      <td>1.0</td>\n",
       "      <td>...</td>\n",
       "      <td>0.511319</td>\n",
       "      <td>True</td>\n",
       "      <td>Cardigan</td>\n",
       "      <td>0.451038</td>\n",
       "      <td>True</td>\n",
       "      <td>Chihuahua</td>\n",
       "      <td>0.029248</td>\n",
       "      <td>True</td>\n",
       "      <td>7711.0</td>\n",
       "      <td>32467.0</td>\n",
       "    </tr>\n",
       "    <tr>\n",
       "      <th>11</th>\n",
       "      <td>889531135344209921</td>\n",
       "      <td>2017-07-24 17:02:04+00:00</td>\n",
       "      <td>&lt;a href=\"http://twitter.com/download/iphone\" r...</td>\n",
       "      <td>This is Stuart. He's sporting his favorite fan...</td>\n",
       "      <td>https://twitter.com/dog_rates/status/889531135...</td>\n",
       "      <td>13</td>\n",
       "      <td>stuart</td>\n",
       "      <td>puppo</td>\n",
       "      <td>https://pbs.twimg.com/media/DFg_2PVW0AEHN3p.jpg</td>\n",
       "      <td>1.0</td>\n",
       "      <td>...</td>\n",
       "      <td>0.953442</td>\n",
       "      <td>True</td>\n",
       "      <td>Labrador_retriever</td>\n",
       "      <td>0.013834</td>\n",
       "      <td>True</td>\n",
       "      <td>redbone</td>\n",
       "      <td>0.007958</td>\n",
       "      <td>True</td>\n",
       "      <td>2321.0</td>\n",
       "      <td>15359.0</td>\n",
       "    </tr>\n",
       "    <tr>\n",
       "      <th>24</th>\n",
       "      <td>886366144734445568</td>\n",
       "      <td>2017-07-15 23:25:31+00:00</td>\n",
       "      <td>&lt;a href=\"http://twitter.com/download/iphone\" r...</td>\n",
       "      <td>This is Roscoe. Another pupper fallen victim t...</td>\n",
       "      <td>https://twitter.com/dog_rates/status/886366144...</td>\n",
       "      <td>12</td>\n",
       "      <td>roscoe</td>\n",
       "      <td>pupper</td>\n",
       "      <td>https://pbs.twimg.com/media/DE0BTnQUwAApKEH.jpg</td>\n",
       "      <td>1.0</td>\n",
       "      <td>...</td>\n",
       "      <td>0.999201</td>\n",
       "      <td>True</td>\n",
       "      <td>Chihuahua</td>\n",
       "      <td>0.000361</td>\n",
       "      <td>True</td>\n",
       "      <td>Boston_bull</td>\n",
       "      <td>0.000076</td>\n",
       "      <td>True</td>\n",
       "      <td>3316.0</td>\n",
       "      <td>21524.0</td>\n",
       "    </tr>\n",
       "    <tr>\n",
       "      <th>33</th>\n",
       "      <td>883838122936631299</td>\n",
       "      <td>2017-07-09 00:00:04+00:00</td>\n",
       "      <td>&lt;a href=\"http://twitter.com/download/iphone\" r...</td>\n",
       "      <td>This is Noah. He can't believe someone made th...</td>\n",
       "      <td>https://twitter.com/dog_rates/status/883838122...</td>\n",
       "      <td>12</td>\n",
       "      <td>noah</td>\n",
       "      <td>doggo</td>\n",
       "      <td>https://pbs.twimg.com/media/DEQGFgAXUAAEvfi.jpg</td>\n",
       "      <td>1.0</td>\n",
       "      <td>...</td>\n",
       "      <td>0.610946</td>\n",
       "      <td>True</td>\n",
       "      <td>miniature_pinscher</td>\n",
       "      <td>0.299603</td>\n",
       "      <td>True</td>\n",
       "      <td>kelpie</td>\n",
       "      <td>0.063020</td>\n",
       "      <td>True</td>\n",
       "      <td>3586.0</td>\n",
       "      <td>22349.0</td>\n",
       "    </tr>\n",
       "    <tr>\n",
       "      <th>38</th>\n",
       "      <td>882627270321602560</td>\n",
       "      <td>2017-07-05 15:48:34+00:00</td>\n",
       "      <td>&lt;a href=\"http://twitter.com/download/iphone\" r...</td>\n",
       "      <td>This is Stanley. He has his first swim lesson ...</td>\n",
       "      <td>https://twitter.com/dog_rates/status/882627270...</td>\n",
       "      <td>13</td>\n",
       "      <td>stanley</td>\n",
       "      <td>pupper</td>\n",
       "      <td>https://pbs.twimg.com/media/DD-40X3WAAAJPU5.jpg</td>\n",
       "      <td>1.0</td>\n",
       "      <td>...</td>\n",
       "      <td>0.542982</td>\n",
       "      <td>True</td>\n",
       "      <td>Chihuahua</td>\n",
       "      <td>0.251988</td>\n",
       "      <td>True</td>\n",
       "      <td>Cardigan</td>\n",
       "      <td>0.107699</td>\n",
       "      <td>True</td>\n",
       "      <td>6342.0</td>\n",
       "      <td>28382.0</td>\n",
       "    </tr>\n",
       "  </tbody>\n",
       "</table>\n",
       "<p>5 rows × 21 columns</p>\n",
       "</div>"
      ],
      "text/plain": [
       "              tweet_id                 timestamp  \\\n",
       "7   890240255349198849 2017-07-26 15:59:51+00:00   \n",
       "11  889531135344209921 2017-07-24 17:02:04+00:00   \n",
       "24  886366144734445568 2017-07-15 23:25:31+00:00   \n",
       "33  883838122936631299 2017-07-09 00:00:04+00:00   \n",
       "38  882627270321602560 2017-07-05 15:48:34+00:00   \n",
       "\n",
       "                                               source  \\\n",
       "7   <a href=\"http://twitter.com/download/iphone\" r...   \n",
       "11  <a href=\"http://twitter.com/download/iphone\" r...   \n",
       "24  <a href=\"http://twitter.com/download/iphone\" r...   \n",
       "33  <a href=\"http://twitter.com/download/iphone\" r...   \n",
       "38  <a href=\"http://twitter.com/download/iphone\" r...   \n",
       "\n",
       "                                                 text  \\\n",
       "7   This is Cassie. She is a college pup. Studying...   \n",
       "11  This is Stuart. He's sporting his favorite fan...   \n",
       "24  This is Roscoe. Another pupper fallen victim t...   \n",
       "33  This is Noah. He can't believe someone made th...   \n",
       "38  This is Stanley. He has his first swim lesson ...   \n",
       "\n",
       "                                        expanded_urls  rating_(over_10)  \\\n",
       "7   https://twitter.com/dog_rates/status/890240255...                14   \n",
       "11  https://twitter.com/dog_rates/status/889531135...                13   \n",
       "24  https://twitter.com/dog_rates/status/886366144...                12   \n",
       "33  https://twitter.com/dog_rates/status/883838122...                12   \n",
       "38  https://twitter.com/dog_rates/status/882627270...                13   \n",
       "\n",
       "       name dog_stage                                          jpg_url  \\\n",
       "7    cassie     doggo  https://pbs.twimg.com/media/DFrEyVuW0AAO3t9.jpg   \n",
       "11   stuart     puppo  https://pbs.twimg.com/media/DFg_2PVW0AEHN3p.jpg   \n",
       "24   roscoe    pupper  https://pbs.twimg.com/media/DE0BTnQUwAApKEH.jpg   \n",
       "33     noah     doggo  https://pbs.twimg.com/media/DEQGFgAXUAAEvfi.jpg   \n",
       "38  stanley    pupper  https://pbs.twimg.com/media/DD-40X3WAAAJPU5.jpg   \n",
       "\n",
       "    img_num  ...   p1_conf  p1_dog                  p2   p2_conf  p2_dog  \\\n",
       "7       1.0  ...  0.511319    True            Cardigan  0.451038    True   \n",
       "11      1.0  ...  0.953442    True  Labrador_retriever  0.013834    True   \n",
       "24      1.0  ...  0.999201    True           Chihuahua  0.000361    True   \n",
       "33      1.0  ...  0.610946    True  miniature_pinscher  0.299603    True   \n",
       "38      1.0  ...  0.542982    True           Chihuahua  0.251988    True   \n",
       "\n",
       "             p3   p3_conf  p3_dog  retweet_count  favorite_count  \n",
       "7     Chihuahua  0.029248    True         7711.0         32467.0  \n",
       "11      redbone  0.007958    True         2321.0         15359.0  \n",
       "24  Boston_bull  0.000076    True         3316.0         21524.0  \n",
       "33       kelpie  0.063020    True         3586.0         22349.0  \n",
       "38     Cardigan  0.107699    True         6342.0         28382.0  \n",
       "\n",
       "[5 rows x 21 columns]"
      ]
     },
     "execution_count": 183,
     "metadata": {},
     "output_type": "execute_result"
    }
   ],
   "source": [
    "the_final_data.head()"
   ]
  },
  {
   "cell_type": "markdown",
   "id": "e35375fc",
   "metadata": {},
   "source": [
    "\n",
    "#### Define\n",
    " -  Now changing the row index to a numbers from 1 to 171"
   ]
  },
  {
   "cell_type": "markdown",
   "id": "24a30b1f",
   "metadata": {},
   "source": [
    "#### Code"
   ]
  },
  {
   "cell_type": "code",
   "execution_count": 184,
   "id": "05c05f58",
   "metadata": {},
   "outputs": [],
   "source": [
    "row_index=np.arange(1,217)"
   ]
  },
  {
   "cell_type": "code",
   "execution_count": 185,
   "id": "9f87332b",
   "metadata": {},
   "outputs": [],
   "source": [
    "the_final_data.index=row_index"
   ]
  },
  {
   "cell_type": "markdown",
   "id": "b2cdd48b",
   "metadata": {},
   "source": [
    "#### Test"
   ]
  },
  {
   "cell_type": "code",
   "execution_count": 186,
   "id": "57cde1c2",
   "metadata": {},
   "outputs": [
    {
     "data": {
      "text/html": [
       "<div>\n",
       "<style scoped>\n",
       "    .dataframe tbody tr th:only-of-type {\n",
       "        vertical-align: middle;\n",
       "    }\n",
       "\n",
       "    .dataframe tbody tr th {\n",
       "        vertical-align: top;\n",
       "    }\n",
       "\n",
       "    .dataframe thead th {\n",
       "        text-align: right;\n",
       "    }\n",
       "</style>\n",
       "<table border=\"1\" class=\"dataframe\">\n",
       "  <thead>\n",
       "    <tr style=\"text-align: right;\">\n",
       "      <th></th>\n",
       "      <th>tweet_id</th>\n",
       "      <th>timestamp</th>\n",
       "      <th>source</th>\n",
       "      <th>text</th>\n",
       "      <th>expanded_urls</th>\n",
       "      <th>rating_(over_10)</th>\n",
       "      <th>name</th>\n",
       "      <th>dog_stage</th>\n",
       "      <th>jpg_url</th>\n",
       "      <th>img_num</th>\n",
       "      <th>...</th>\n",
       "      <th>p1_conf</th>\n",
       "      <th>p1_dog</th>\n",
       "      <th>p2</th>\n",
       "      <th>p2_conf</th>\n",
       "      <th>p2_dog</th>\n",
       "      <th>p3</th>\n",
       "      <th>p3_conf</th>\n",
       "      <th>p3_dog</th>\n",
       "      <th>retweet_count</th>\n",
       "      <th>favorite_count</th>\n",
       "    </tr>\n",
       "  </thead>\n",
       "  <tbody>\n",
       "    <tr>\n",
       "      <th>1</th>\n",
       "      <td>890240255349198849</td>\n",
       "      <td>2017-07-26 15:59:51+00:00</td>\n",
       "      <td>&lt;a href=\"http://twitter.com/download/iphone\" r...</td>\n",
       "      <td>This is Cassie. She is a college pup. Studying...</td>\n",
       "      <td>https://twitter.com/dog_rates/status/890240255...</td>\n",
       "      <td>14</td>\n",
       "      <td>cassie</td>\n",
       "      <td>doggo</td>\n",
       "      <td>https://pbs.twimg.com/media/DFrEyVuW0AAO3t9.jpg</td>\n",
       "      <td>1.0</td>\n",
       "      <td>...</td>\n",
       "      <td>0.511319</td>\n",
       "      <td>True</td>\n",
       "      <td>Cardigan</td>\n",
       "      <td>0.451038</td>\n",
       "      <td>True</td>\n",
       "      <td>Chihuahua</td>\n",
       "      <td>0.029248</td>\n",
       "      <td>True</td>\n",
       "      <td>7711.0</td>\n",
       "      <td>32467.0</td>\n",
       "    </tr>\n",
       "    <tr>\n",
       "      <th>2</th>\n",
       "      <td>889531135344209921</td>\n",
       "      <td>2017-07-24 17:02:04+00:00</td>\n",
       "      <td>&lt;a href=\"http://twitter.com/download/iphone\" r...</td>\n",
       "      <td>This is Stuart. He's sporting his favorite fan...</td>\n",
       "      <td>https://twitter.com/dog_rates/status/889531135...</td>\n",
       "      <td>13</td>\n",
       "      <td>stuart</td>\n",
       "      <td>puppo</td>\n",
       "      <td>https://pbs.twimg.com/media/DFg_2PVW0AEHN3p.jpg</td>\n",
       "      <td>1.0</td>\n",
       "      <td>...</td>\n",
       "      <td>0.953442</td>\n",
       "      <td>True</td>\n",
       "      <td>Labrador_retriever</td>\n",
       "      <td>0.013834</td>\n",
       "      <td>True</td>\n",
       "      <td>redbone</td>\n",
       "      <td>0.007958</td>\n",
       "      <td>True</td>\n",
       "      <td>2321.0</td>\n",
       "      <td>15359.0</td>\n",
       "    </tr>\n",
       "    <tr>\n",
       "      <th>3</th>\n",
       "      <td>886366144734445568</td>\n",
       "      <td>2017-07-15 23:25:31+00:00</td>\n",
       "      <td>&lt;a href=\"http://twitter.com/download/iphone\" r...</td>\n",
       "      <td>This is Roscoe. Another pupper fallen victim t...</td>\n",
       "      <td>https://twitter.com/dog_rates/status/886366144...</td>\n",
       "      <td>12</td>\n",
       "      <td>roscoe</td>\n",
       "      <td>pupper</td>\n",
       "      <td>https://pbs.twimg.com/media/DE0BTnQUwAApKEH.jpg</td>\n",
       "      <td>1.0</td>\n",
       "      <td>...</td>\n",
       "      <td>0.999201</td>\n",
       "      <td>True</td>\n",
       "      <td>Chihuahua</td>\n",
       "      <td>0.000361</td>\n",
       "      <td>True</td>\n",
       "      <td>Boston_bull</td>\n",
       "      <td>0.000076</td>\n",
       "      <td>True</td>\n",
       "      <td>3316.0</td>\n",
       "      <td>21524.0</td>\n",
       "    </tr>\n",
       "    <tr>\n",
       "      <th>4</th>\n",
       "      <td>883838122936631299</td>\n",
       "      <td>2017-07-09 00:00:04+00:00</td>\n",
       "      <td>&lt;a href=\"http://twitter.com/download/iphone\" r...</td>\n",
       "      <td>This is Noah. He can't believe someone made th...</td>\n",
       "      <td>https://twitter.com/dog_rates/status/883838122...</td>\n",
       "      <td>12</td>\n",
       "      <td>noah</td>\n",
       "      <td>doggo</td>\n",
       "      <td>https://pbs.twimg.com/media/DEQGFgAXUAAEvfi.jpg</td>\n",
       "      <td>1.0</td>\n",
       "      <td>...</td>\n",
       "      <td>0.610946</td>\n",
       "      <td>True</td>\n",
       "      <td>miniature_pinscher</td>\n",
       "      <td>0.299603</td>\n",
       "      <td>True</td>\n",
       "      <td>kelpie</td>\n",
       "      <td>0.063020</td>\n",
       "      <td>True</td>\n",
       "      <td>3586.0</td>\n",
       "      <td>22349.0</td>\n",
       "    </tr>\n",
       "    <tr>\n",
       "      <th>5</th>\n",
       "      <td>882627270321602560</td>\n",
       "      <td>2017-07-05 15:48:34+00:00</td>\n",
       "      <td>&lt;a href=\"http://twitter.com/download/iphone\" r...</td>\n",
       "      <td>This is Stanley. He has his first swim lesson ...</td>\n",
       "      <td>https://twitter.com/dog_rates/status/882627270...</td>\n",
       "      <td>13</td>\n",
       "      <td>stanley</td>\n",
       "      <td>pupper</td>\n",
       "      <td>https://pbs.twimg.com/media/DD-40X3WAAAJPU5.jpg</td>\n",
       "      <td>1.0</td>\n",
       "      <td>...</td>\n",
       "      <td>0.542982</td>\n",
       "      <td>True</td>\n",
       "      <td>Chihuahua</td>\n",
       "      <td>0.251988</td>\n",
       "      <td>True</td>\n",
       "      <td>Cardigan</td>\n",
       "      <td>0.107699</td>\n",
       "      <td>True</td>\n",
       "      <td>6342.0</td>\n",
       "      <td>28382.0</td>\n",
       "    </tr>\n",
       "  </tbody>\n",
       "</table>\n",
       "<p>5 rows × 21 columns</p>\n",
       "</div>"
      ],
      "text/plain": [
       "             tweet_id                 timestamp  \\\n",
       "1  890240255349198849 2017-07-26 15:59:51+00:00   \n",
       "2  889531135344209921 2017-07-24 17:02:04+00:00   \n",
       "3  886366144734445568 2017-07-15 23:25:31+00:00   \n",
       "4  883838122936631299 2017-07-09 00:00:04+00:00   \n",
       "5  882627270321602560 2017-07-05 15:48:34+00:00   \n",
       "\n",
       "                                              source  \\\n",
       "1  <a href=\"http://twitter.com/download/iphone\" r...   \n",
       "2  <a href=\"http://twitter.com/download/iphone\" r...   \n",
       "3  <a href=\"http://twitter.com/download/iphone\" r...   \n",
       "4  <a href=\"http://twitter.com/download/iphone\" r...   \n",
       "5  <a href=\"http://twitter.com/download/iphone\" r...   \n",
       "\n",
       "                                                text  \\\n",
       "1  This is Cassie. She is a college pup. Studying...   \n",
       "2  This is Stuart. He's sporting his favorite fan...   \n",
       "3  This is Roscoe. Another pupper fallen victim t...   \n",
       "4  This is Noah. He can't believe someone made th...   \n",
       "5  This is Stanley. He has his first swim lesson ...   \n",
       "\n",
       "                                       expanded_urls  rating_(over_10)  \\\n",
       "1  https://twitter.com/dog_rates/status/890240255...                14   \n",
       "2  https://twitter.com/dog_rates/status/889531135...                13   \n",
       "3  https://twitter.com/dog_rates/status/886366144...                12   \n",
       "4  https://twitter.com/dog_rates/status/883838122...                12   \n",
       "5  https://twitter.com/dog_rates/status/882627270...                13   \n",
       "\n",
       "      name dog_stage                                          jpg_url  \\\n",
       "1   cassie     doggo  https://pbs.twimg.com/media/DFrEyVuW0AAO3t9.jpg   \n",
       "2   stuart     puppo  https://pbs.twimg.com/media/DFg_2PVW0AEHN3p.jpg   \n",
       "3   roscoe    pupper  https://pbs.twimg.com/media/DE0BTnQUwAApKEH.jpg   \n",
       "4     noah     doggo  https://pbs.twimg.com/media/DEQGFgAXUAAEvfi.jpg   \n",
       "5  stanley    pupper  https://pbs.twimg.com/media/DD-40X3WAAAJPU5.jpg   \n",
       "\n",
       "   img_num  ...   p1_conf  p1_dog                  p2   p2_conf  p2_dog  \\\n",
       "1      1.0  ...  0.511319    True            Cardigan  0.451038    True   \n",
       "2      1.0  ...  0.953442    True  Labrador_retriever  0.013834    True   \n",
       "3      1.0  ...  0.999201    True           Chihuahua  0.000361    True   \n",
       "4      1.0  ...  0.610946    True  miniature_pinscher  0.299603    True   \n",
       "5      1.0  ...  0.542982    True           Chihuahua  0.251988    True   \n",
       "\n",
       "            p3   p3_conf  p3_dog  retweet_count  favorite_count  \n",
       "1    Chihuahua  0.029248    True         7711.0         32467.0  \n",
       "2      redbone  0.007958    True         2321.0         15359.0  \n",
       "3  Boston_bull  0.000076    True         3316.0         21524.0  \n",
       "4       kelpie  0.063020    True         3586.0         22349.0  \n",
       "5     Cardigan  0.107699    True         6342.0         28382.0  \n",
       "\n",
       "[5 rows x 21 columns]"
      ]
     },
     "execution_count": 186,
     "metadata": {},
     "output_type": "execute_result"
    }
   ],
   "source": [
    "the_final_data.head()"
   ]
  },
  {
   "cell_type": "code",
   "execution_count": 187,
   "id": "02118867",
   "metadata": {},
   "outputs": [
    {
     "data": {
      "text/html": [
       "<div>\n",
       "<style scoped>\n",
       "    .dataframe tbody tr th:only-of-type {\n",
       "        vertical-align: middle;\n",
       "    }\n",
       "\n",
       "    .dataframe tbody tr th {\n",
       "        vertical-align: top;\n",
       "    }\n",
       "\n",
       "    .dataframe thead th {\n",
       "        text-align: right;\n",
       "    }\n",
       "</style>\n",
       "<table border=\"1\" class=\"dataframe\">\n",
       "  <thead>\n",
       "    <tr style=\"text-align: right;\">\n",
       "      <th></th>\n",
       "      <th>tweet_id</th>\n",
       "      <th>timestamp</th>\n",
       "      <th>source</th>\n",
       "      <th>text</th>\n",
       "      <th>expanded_urls</th>\n",
       "      <th>rating_(over_10)</th>\n",
       "      <th>name</th>\n",
       "      <th>dog_stage</th>\n",
       "      <th>jpg_url</th>\n",
       "      <th>img_num</th>\n",
       "      <th>...</th>\n",
       "      <th>p1_conf</th>\n",
       "      <th>p1_dog</th>\n",
       "      <th>p2</th>\n",
       "      <th>p2_conf</th>\n",
       "      <th>p2_dog</th>\n",
       "      <th>p3</th>\n",
       "      <th>p3_conf</th>\n",
       "      <th>p3_dog</th>\n",
       "      <th>retweet_count</th>\n",
       "      <th>favorite_count</th>\n",
       "    </tr>\n",
       "  </thead>\n",
       "  <tbody>\n",
       "    <tr>\n",
       "      <th>212</th>\n",
       "      <td>672068090318987265</td>\n",
       "      <td>2015-12-02 15:01:33+00:00</td>\n",
       "      <td>&lt;a href=\"http://twitter.com/download/iphone\" r...</td>\n",
       "      <td>Say hello to Gizmo. He's upset because he's no...</td>\n",
       "      <td>https://twitter.com/dog_rates/status/672068090...</td>\n",
       "      <td>17</td>\n",
       "      <td>gizmo</td>\n",
       "      <td>pupper</td>\n",
       "      <td>https://pbs.twimg.com/media/CVOqW8eUkAESTHj.jpg</td>\n",
       "      <td>1.0</td>\n",
       "      <td>...</td>\n",
       "      <td>0.863385</td>\n",
       "      <td>True</td>\n",
       "      <td>shopping_cart</td>\n",
       "      <td>0.125746</td>\n",
       "      <td>False</td>\n",
       "      <td>Border_terrier</td>\n",
       "      <td>0.002972</td>\n",
       "      <td>True</td>\n",
       "      <td>564.0</td>\n",
       "      <td>1389.0</td>\n",
       "    </tr>\n",
       "    <tr>\n",
       "      <th>213</th>\n",
       "      <td>671735591348891648</td>\n",
       "      <td>2015-12-01 17:00:19+00:00</td>\n",
       "      <td>&lt;a href=\"http://twitter.com/download/iphone\" r...</td>\n",
       "      <td>This is Oscar. He's ready for Christmas. 11/10...</td>\n",
       "      <td>https://twitter.com/dog_rates/status/671735591...</td>\n",
       "      <td>11</td>\n",
       "      <td>oscar</td>\n",
       "      <td>pupper</td>\n",
       "      <td>https://pbs.twimg.com/media/CVJ79MzW4AEpTom.jpg</td>\n",
       "      <td>2.0</td>\n",
       "      <td>...</td>\n",
       "      <td>0.271121</td>\n",
       "      <td>False</td>\n",
       "      <td>Irish_wolfhound</td>\n",
       "      <td>0.063078</td>\n",
       "      <td>True</td>\n",
       "      <td>poncho</td>\n",
       "      <td>0.048226</td>\n",
       "      <td>False</td>\n",
       "      <td>819.0</td>\n",
       "      <td>1534.0</td>\n",
       "    </tr>\n",
       "    <tr>\n",
       "      <th>214</th>\n",
       "      <td>671542985629241344</td>\n",
       "      <td>2015-12-01 04:14:59+00:00</td>\n",
       "      <td>&lt;a href=\"http://twitter.com/download/iphone\" r...</td>\n",
       "      <td>This is JD (stands for \"just dog\"). He's like ...</td>\n",
       "      <td>https://twitter.com/dog_rates/status/671542985...</td>\n",
       "      <td>10</td>\n",
       "      <td>jd</td>\n",
       "      <td>pupper</td>\n",
       "      <td>https://pbs.twimg.com/media/CVHMyHMWwAALYXs.jpg</td>\n",
       "      <td>1.0</td>\n",
       "      <td>...</td>\n",
       "      <td>0.980339</td>\n",
       "      <td>True</td>\n",
       "      <td>collie</td>\n",
       "      <td>0.006693</td>\n",
       "      <td>True</td>\n",
       "      <td>papillon</td>\n",
       "      <td>0.006157</td>\n",
       "      <td>True</td>\n",
       "      <td>616.0</td>\n",
       "      <td>1166.0</td>\n",
       "    </tr>\n",
       "    <tr>\n",
       "      <th>215</th>\n",
       "      <td>671518598289059840</td>\n",
       "      <td>2015-12-01 02:38:04+00:00</td>\n",
       "      <td>&lt;a href=\"http://twitter.com/download/iphone\" r...</td>\n",
       "      <td>This is Scruffers. He's being violated on mult...</td>\n",
       "      <td>https://twitter.com/dog_rates/status/671518598...</td>\n",
       "      <td>19</td>\n",
       "      <td>scruffers</td>\n",
       "      <td>pupper</td>\n",
       "      <td>https://pbs.twimg.com/media/CVG2l9jUYAAwg-w.jpg</td>\n",
       "      <td>1.0</td>\n",
       "      <td>...</td>\n",
       "      <td>0.428275</td>\n",
       "      <td>True</td>\n",
       "      <td>wire-haired_fox_terrier</td>\n",
       "      <td>0.111472</td>\n",
       "      <td>True</td>\n",
       "      <td>toy_poodle</td>\n",
       "      <td>0.105016</td>\n",
       "      <td>True</td>\n",
       "      <td>319.0</td>\n",
       "      <td>1010.0</td>\n",
       "    </tr>\n",
       "    <tr>\n",
       "      <th>216</th>\n",
       "      <td>671115716440031232</td>\n",
       "      <td>2015-11-29 23:57:10+00:00</td>\n",
       "      <td>&lt;a href=\"http://twitter.com/download/iphone\" r...</td>\n",
       "      <td>Meet Phred. He isn't steering, looking at the ...</td>\n",
       "      <td>https://twitter.com/dog_rates/status/671115716...</td>\n",
       "      <td>16</td>\n",
       "      <td>phred</td>\n",
       "      <td>pupper</td>\n",
       "      <td>https://pbs.twimg.com/media/CVBILUgVAAA1ZUr.jpg</td>\n",
       "      <td>1.0</td>\n",
       "      <td>...</td>\n",
       "      <td>0.406341</td>\n",
       "      <td>True</td>\n",
       "      <td>kelpie</td>\n",
       "      <td>0.143366</td>\n",
       "      <td>True</td>\n",
       "      <td>dingo</td>\n",
       "      <td>0.129802</td>\n",
       "      <td>False</td>\n",
       "      <td>842.0</td>\n",
       "      <td>1436.0</td>\n",
       "    </tr>\n",
       "  </tbody>\n",
       "</table>\n",
       "<p>5 rows × 21 columns</p>\n",
       "</div>"
      ],
      "text/plain": [
       "               tweet_id                 timestamp  \\\n",
       "212  672068090318987265 2015-12-02 15:01:33+00:00   \n",
       "213  671735591348891648 2015-12-01 17:00:19+00:00   \n",
       "214  671542985629241344 2015-12-01 04:14:59+00:00   \n",
       "215  671518598289059840 2015-12-01 02:38:04+00:00   \n",
       "216  671115716440031232 2015-11-29 23:57:10+00:00   \n",
       "\n",
       "                                                source  \\\n",
       "212  <a href=\"http://twitter.com/download/iphone\" r...   \n",
       "213  <a href=\"http://twitter.com/download/iphone\" r...   \n",
       "214  <a href=\"http://twitter.com/download/iphone\" r...   \n",
       "215  <a href=\"http://twitter.com/download/iphone\" r...   \n",
       "216  <a href=\"http://twitter.com/download/iphone\" r...   \n",
       "\n",
       "                                                  text  \\\n",
       "212  Say hello to Gizmo. He's upset because he's no...   \n",
       "213  This is Oscar. He's ready for Christmas. 11/10...   \n",
       "214  This is JD (stands for \"just dog\"). He's like ...   \n",
       "215  This is Scruffers. He's being violated on mult...   \n",
       "216  Meet Phred. He isn't steering, looking at the ...   \n",
       "\n",
       "                                         expanded_urls  rating_(over_10)  \\\n",
       "212  https://twitter.com/dog_rates/status/672068090...                17   \n",
       "213  https://twitter.com/dog_rates/status/671735591...                11   \n",
       "214  https://twitter.com/dog_rates/status/671542985...                10   \n",
       "215  https://twitter.com/dog_rates/status/671518598...                19   \n",
       "216  https://twitter.com/dog_rates/status/671115716...                16   \n",
       "\n",
       "          name dog_stage                                          jpg_url  \\\n",
       "212      gizmo    pupper  https://pbs.twimg.com/media/CVOqW8eUkAESTHj.jpg   \n",
       "213      oscar    pupper  https://pbs.twimg.com/media/CVJ79MzW4AEpTom.jpg   \n",
       "214         jd    pupper  https://pbs.twimg.com/media/CVHMyHMWwAALYXs.jpg   \n",
       "215  scruffers    pupper  https://pbs.twimg.com/media/CVG2l9jUYAAwg-w.jpg   \n",
       "216      phred    pupper  https://pbs.twimg.com/media/CVBILUgVAAA1ZUr.jpg   \n",
       "\n",
       "     img_num  ...   p1_conf  p1_dog                       p2   p2_conf  \\\n",
       "212      1.0  ...  0.863385    True            shopping_cart  0.125746   \n",
       "213      2.0  ...  0.271121   False          Irish_wolfhound  0.063078   \n",
       "214      1.0  ...  0.980339    True                   collie  0.006693   \n",
       "215      1.0  ...  0.428275    True  wire-haired_fox_terrier  0.111472   \n",
       "216      1.0  ...  0.406341    True                   kelpie  0.143366   \n",
       "\n",
       "     p2_dog              p3   p3_conf  p3_dog  retweet_count  favorite_count  \n",
       "212   False  Border_terrier  0.002972    True          564.0          1389.0  \n",
       "213    True          poncho  0.048226   False          819.0          1534.0  \n",
       "214    True        papillon  0.006157    True          616.0          1166.0  \n",
       "215    True      toy_poodle  0.105016    True          319.0          1010.0  \n",
       "216    True           dingo  0.129802   False          842.0          1436.0  \n",
       "\n",
       "[5 rows x 21 columns]"
      ]
     },
     "execution_count": 187,
     "metadata": {},
     "output_type": "execute_result"
    }
   ],
   "source": [
    "the_final_data.tail()"
   ]
  },
  {
   "cell_type": "markdown",
   "id": "046080cf",
   "metadata": {},
   "source": [
    "###### Dataframe to csv file"
   ]
  },
  {
   "cell_type": "code",
   "execution_count": 188,
   "id": "4b3eea18",
   "metadata": {},
   "outputs": [],
   "source": [
    "the_final_data.to_csv('twitter_archive_master', index = False)"
   ]
  },
  {
   "cell_type": "markdown",
   "id": "66c147c4",
   "metadata": {},
   "source": [
    "# Visualization"
   ]
  },
  {
   "cell_type": "markdown",
   "id": "b533172d",
   "metadata": {},
   "source": [
    "<a id='analysis'></a>\n",
    "## Exploratory Data Analysis\n",
    "\n",
    "### Question 1: What is the percentage of dog stage?\n",
    "\n",
    "To answer this question, I will need to find the year and month of each `timestamp`, and then group the count of `tweet_id` by the year and month.###### percantage of dog stages"
   ]
  },
  {
   "cell_type": "code",
   "execution_count": 195,
   "id": "aa4f4182",
   "metadata": {},
   "outputs": [
    {
     "data": {
      "text/plain": [
       "pupper           136\n",
       "doggo             54\n",
       "puppo             13\n",
       "doggo, pupper      8\n",
       "floofer            3\n",
       "doggopuppo         1\n",
       "doggofloofer       1\n",
       "Name: dog_stage, dtype: int64"
      ]
     },
     "execution_count": 195,
     "metadata": {},
     "output_type": "execute_result"
    }
   ],
   "source": [
    "x=the_final_data['dog_stage'].value_counts()\n",
    "x"
   ]
  },
  {
   "cell_type": "code",
   "execution_count": 199,
   "id": "4e7c1771",
   "metadata": {
    "scrolled": true
   },
   "outputs": [
    {
     "data": {
      "image/png": "[encoded data removed]",
      "text/plain": [
       "<Figure size 432x288 with 1 Axes>"
      ]
     },
     "metadata": {},
     "output_type": "display_data"
    }
   ],
   "source": [
    "plt.pie(x,labels=['pupper','doggo','puppo','doggo, pupper','floofer','doggopuppo','doggofloofer'])\n",
    "plt.title('Dog stage percentages')\n",
    "plt.show()"
   ]
  },
  {
   "cell_type": "markdown",
   "id": "5b5bbe5d",
   "metadata": {},
   "source": [
    "#### so..\n",
    "    -pupper is the biggest percentage\n",
    "    -doggopuppo and doggopuppo are the lowest"
   ]
  },
  {
   "cell_type": "markdown",
   "id": "bdb5177f",
   "metadata": {},
   "source": [
    "### Question 2: What is the correlation between retweet count and favorate count?"
   ]
  },
  {
   "cell_type": "code",
   "execution_count": 201,
   "id": "4f431174",
   "metadata": {},
   "outputs": [
    {
     "data": {
      "image/png": "[encoded data removed]",
      "text/plain": [
       "<Figure size 432x288 with 1 Axes>"
      ]
     },
     "metadata": {
      "needs_background": "light"
     },
     "output_type": "display_data"
    }
   ],
   "source": [
    "plt.scatter(the_final_data.retweet_count,the_final_data.favorite_count)\n",
    "plt.title('Correlation between retweets counts and favorites counts')\n",
    "plt.xlabel('Retweet counts')\n",
    "plt.ylabel('Favorite counts');\n",
    "plt.show()"
   ]
  },
  {
   "cell_type": "code",
   "execution_count": null,
   "id": "9a547ee7",
   "metadata": {},
   "outputs": [],
   "source": [
    "#### -there is a positive correlation between retweet count and favorate count"
   ]
  },
  {
   "cell_type": "code",
   "execution_count": 203,
   "id": "c338dafd",
   "metadata": {},
   "outputs": [
    {
     "data": {
      "image/png": "[encoded data removed]",
      "text/plain": [
       "<Figure size 432x288 with 1 Axes>"
      ]
     },
     "metadata": {
      "needs_background": "light"
     },
     "output_type": "display_data"
    }
   ],
   "source": [
    "plt.scatter(the_final_data.favorite_count,the_final_data['rating_(over_10)'])\n",
    "plt.title('Rates vs favorite counts')\n",
    "plt.xlabel('Favorite Counts')\n",
    "plt.ylabel('Rates');\n",
    "plt.show()"
   ]
  },
  {
   "cell_type": "markdown",
   "id": "515e3910",
   "metadata": {},
   "source": [
    "### Question 3: What is WeRateDogs's posting trend by month?\n",
    "\n",
    "To answer this question, I will need to find the year and month of each `timestamp`, and then group the count of `tweet_id` by the year and month."
   ]
  },
  {
   "cell_type": "code",
   "execution_count": 204,
   "id": "747a3835",
   "metadata": {},
   "outputs": [
    {
     "name": "stderr",
     "output_type": "stream",
     "text": [
      "C:\\Users\\ykska\\anaconda3\\envs\\tea_facts\\lib\\site-packages\\pandas\\core\\arrays\\datetimes.py:1162: UserWarning: Converting to PeriodArray/Index representation will drop timezone information.\n",
      "  warnings.warn(\n"
     ]
    }
   ],
   "source": [
    "monthly_tweets_count = the_final_data.groupby(the_final_data['timestamp'].dt.to_period('M'))['tweet_id'].count()"
   ]
  },
  {
   "cell_type": "code",
   "execution_count": 205,
   "id": "846ec7fd",
   "metadata": {
    "scrolled": false
   },
   "outputs": [
    {
     "data": {
      "image/png": "[encoded data removed]",
      "text/plain": [
       "<Figure size 432x288 with 1 Axes>"
      ]
     },
     "metadata": {
      "needs_background": "light"
     },
     "output_type": "display_data"
    }
   ],
   "source": [
    "monthly_tweets_count.plot()\n",
    "plt.title('Tweet Count by Month')\n",
    "plt.xlabel('Month')\n",
    "plt.ylabel('Number of Tweets');"
   ]
  },
  {
   "cell_type": "markdown",
   "id": "4e9b78ee",
   "metadata": {},
   "source": [
    "The number of ratings that WeRateDogs has posted each month has decreased since the account was first started.\n",
    "\n",
    "### Question 4: What is the monthly trend of interactions with WeRateDogs's posts?\n",
    "\n",
    "Here I will define \"interactions\" that is the sum of retweets and favorites. I will create a new column called 'tweet_activity' with this sum, and finally use a similar process as before to find the average 'tweet_activity' per tweet by month."
   ]
  },
  {
   "cell_type": "code",
   "execution_count": 206,
   "id": "9942e093",
   "metadata": {},
   "outputs": [],
   "source": [
    "the_final_data['tweet_activity'] = the_final_data['retweet_count']+the_final_data['favorite_count']"
   ]
  },
  {
   "cell_type": "code",
   "execution_count": 207,
   "id": "51ef382a",
   "metadata": {},
   "outputs": [
    {
     "name": "stderr",
     "output_type": "stream",
     "text": [
      "C:\\Users\\ykska\\anaconda3\\envs\\tea_facts\\lib\\site-packages\\pandas\\core\\arrays\\datetimes.py:1162: UserWarning: Converting to PeriodArray/Index representation will drop timezone information.\n",
      "  warnings.warn(\n"
     ]
    }
   ],
   "source": [
    "monthly_tweet_activity = the_final_data.groupby(the_final_data['timestamp'].dt.to_period('M'))['tweet_activity'].mean()"
   ]
  },
  {
   "cell_type": "code",
   "execution_count": 208,
   "id": "c2267dcb",
   "metadata": {},
   "outputs": [
    {
     "data": {
      "image/png": "[encoded data removed]",
      "text/plain": [
       "<Figure size 432x288 with 1 Axes>"
      ]
     },
     "metadata": {
      "needs_background": "light"
     },
     "output_type": "display_data"
    }
   ],
   "source": [
    "monthly_tweet_activity.plot()\n",
    "plt.title('Average Activity Per Tweet by Month')\n",
    "plt.xlabel('Month')\n",
    "plt.ylabel('Tweet Activity');"
   ]
  },
  {
   "cell_type": "code",
   "execution_count": null,
   "id": "6d8761f7",
   "metadata": {},
   "outputs": [],
   "source": []
  }
 ],
 "metadata": {
  "kernelspec": {
   "display_name": "Python 3 (ipykernel)",
   "language": "python",
   "name": "python3"
  },
  "language_info": {
   "codemirror_mode": {
    "name": "ipython",
    "version": 3
   },
   "file_extension": ".py",
   "mimetype": "text/x-python",
   "name": "python",
   "nbconvert_exporter": "python",
   "pygments_lexer": "ipython3",
   "version": "3.10.4"
  }
 },
 "nbformat": 4,
 "nbformat_minor": 5
}
